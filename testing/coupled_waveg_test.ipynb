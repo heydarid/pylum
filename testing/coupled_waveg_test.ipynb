{
 "cells": [
  {
   "cell_type": "markdown",
   "metadata": {},
   "source": [
    "## 6/20 edits"
   ]
  },
  {
   "cell_type": "markdown",
   "metadata": {},
   "source": [
    "First, let use see if, after the edits I made today, for a SINGLE, uncoupled waveguide, everything works properly."
   ]
  },
  {
   "cell_type": "code",
   "execution_count": 1,
   "metadata": {
    "ExecuteTime": {
     "end_time": "2020-06-21T23:10:43.027315Z",
     "start_time": "2020-06-21T23:10:34.763895Z"
    }
   },
   "outputs": [],
   "source": [
    "import pylum\n",
    "import pylum.structure.waveguide as wg\n",
    "import pylum.fdemode as fde\n",
    "import pylum.structure.ridge_wg as ridge\n",
    "wg = wg.Waveguide(3e-6,3e-6,1.2e-6)\n",
    "environ = ridge.RidgeWaveguideEnvironment(wg, hideGUI=False)"
   ]
  },
  {
   "cell_type": "code",
   "execution_count": 2,
   "metadata": {
    "ExecuteTime": {
     "end_time": "2020-06-21T23:10:43.033271Z",
     "start_time": "2020-06-21T23:10:43.029282Z"
    }
   },
   "outputs": [],
   "source": [
    "λ = 1.2e-6"
   ]
  },
  {
   "cell_type": "code",
   "execution_count": 6,
   "metadata": {
    "ExecuteTime": {
     "end_time": "2020-06-21T22:44:43.049597Z",
     "start_time": "2020-06-21T22:44:42.725999Z"
    }
   },
   "outputs": [],
   "source": [
    "environ.set_geometry(λ, wg, name=\"structure\", subs_thickness=3e-6, cap_thickness=0.5e-6, x_core=0, left=True, right=True)"
   ]
  },
  {
   "cell_type": "code",
   "execution_count": 5,
   "metadata": {
    "ExecuteTime": {
     "end_time": "2020-06-21T23:11:04.147072Z",
     "start_time": "2020-06-21T23:11:03.316034Z"
    }
   },
   "outputs": [],
   "source": [
    "environ.produce_environment(wg, λ, left=False)"
   ]
  },
  {
   "cell_type": "code",
   "execution_count": null,
   "metadata": {},
   "outputs": [],
   "source": [
    "fde = fde.FDEModeSimulator(environ)\n",
    "fde.setup_sim(1.2e-6)"
   ]
  }
 ],
 "metadata": {
  "kernelspec": {
   "display_name": "Python 3",
   "language": "python",
   "name": "python3"
  },
  "language_info": {
   "codemirror_mode": {
    "name": "ipython",
    "version": 3
   },
   "file_extension": ".py",
   "mimetype": "text/x-python",
   "name": "python",
   "nbconvert_exporter": "python",
   "pygments_lexer": "ipython3",
   "version": "3.7.3"
  }
 },
 "nbformat": 4,
 "nbformat_minor": 2
}
