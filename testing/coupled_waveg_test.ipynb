{
 "cells": [
  {
   "cell_type": "markdown",
   "metadata": {},
   "source": [
    "## 6/20 edits"
   ]
  },
  {
   "cell_type": "markdown",
   "metadata": {},
   "source": [
    "First, let use see if, after the edits I made today, for a SINGLE, uncoupled waveguide, everything works properly."
   ]
  },
  {
   "cell_type": "code",
   "execution_count": 1,
   "metadata": {
    "ExecuteTime": {
     "end_time": "2020-06-21T00:59:48.528593Z",
     "start_time": "2020-06-21T00:59:41.837834Z"
    }
   },
   "outputs": [],
   "source": [
    "import pylum\n",
    "import pylum.structure.waveguide as wg\n",
    "import pylum.fdemode as fde\n",
    "import pylum.structure.ridge_wg as ridge\n",
    "wg = wg.Waveguide(3e-6,3e-6,1.2e-6)\n",
    "environ = ridge.RidgeWaveguideEnvironment(wg, hideGUI=False)"
   ]
  },
  {
   "cell_type": "code",
   "execution_count": 2,
   "metadata": {
    "ExecuteTime": {
     "end_time": "2020-06-21T00:59:48.535555Z",
     "start_time": "2020-06-21T00:59:48.530558Z"
    }
   },
   "outputs": [],
   "source": [
    "λ = 1.2e-6"
   ]
  },
  {
   "cell_type": "code",
   "execution_count": 3,
   "metadata": {
    "ExecuteTime": {
     "end_time": "2020-06-21T00:59:48.702624Z",
     "start_time": "2020-06-21T00:59:48.537541Z"
    }
   },
   "outputs": [],
   "source": [
    "environ.create_structures()"
   ]
  },
  {
   "cell_type": "code",
   "execution_count": 4,
   "metadata": {
    "ExecuteTime": {
     "end_time": "2020-06-21T00:59:48.753491Z",
     "start_time": "2020-06-21T00:59:48.705617Z"
    }
   },
   "outputs": [],
   "source": [
    "environ._add_to_core_group(name=\"structure\")"
   ]
  },
  {
   "cell_type": "code",
   "execution_count": 5,
   "metadata": {
    "ExecuteTime": {
     "end_time": "2020-06-21T00:59:48.812333Z",
     "start_time": "2020-06-21T00:59:48.756486Z"
    }
   },
   "outputs": [],
   "source": [
    "environ.set_group_material(\"structure\")"
   ]
  },
  {
   "cell_type": "code",
   "execution_count": 6,
   "metadata": {
    "ExecuteTime": {
     "end_time": "2020-06-21T00:59:49.082623Z",
     "start_time": "2020-06-21T00:59:48.817320Z"
    }
   },
   "outputs": [],
   "source": [
    "environ.set_geometry(λ, wg, name=\"structure\", subs_thickness=3e-6, cap_thickness=0.5e-6, x_core=0, left=True, right=True)"
   ]
  },
  {
   "cell_type": "code",
   "execution_count": null,
   "metadata": {},
   "outputs": [],
   "source": [
    "fde = fde.FDEModeSimulator(environ)\n",
    "fde.setup_sim(1.2e-6)"
   ]
  }
 ],
 "metadata": {
  "kernelspec": {
   "display_name": "Python 3",
   "language": "python",
   "name": "python3"
  },
  "language_info": {
   "codemirror_mode": {
    "name": "ipython",
    "version": 3
   },
   "file_extension": ".py",
   "mimetype": "text/x-python",
   "name": "python",
   "nbconvert_exporter": "python",
   "pygments_lexer": "ipython3",
   "version": "3.7.3"
  }
 },
 "nbformat": 4,
 "nbformat_minor": 2
}
