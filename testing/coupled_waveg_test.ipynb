{
 "cells": [
  {
   "cell_type": "markdown",
   "metadata": {},
   "source": [
    "## 6/20 edits"
   ]
  },
  {
   "cell_type": "markdown",
   "metadata": {},
   "source": [
    "First, let use see if, after the edits I made today, for a SINGLE, uncoupled waveguide, everything works properly."
   ]
  },
  {
   "cell_type": "code",
   "execution_count": 1,
   "metadata": {
    "ExecuteTime": {
     "end_time": "2020-06-21T23:15:05.938860Z",
     "start_time": "2020-06-21T23:14:57.724628Z"
    }
   },
   "outputs": [],
   "source": [
    "import pylum\n",
    "import pylum.structure.waveguide as wg\n",
    "import pylum.fdemode as fde\n",
    "import pylum.structure.ridge_wg as ridge\n",
    "wg = wg.Waveguide(3e-6,3e-6,1.2e-6)\n",
    "environ = ridge.RidgeWaveguideEnvironment(wg, hideGUI=False)"
   ]
  },
  {
   "cell_type": "code",
   "execution_count": 5,
   "metadata": {
    "ExecuteTime": {
     "end_time": "2020-06-22T00:17:05.573127Z",
     "start_time": "2020-06-22T00:17:05.569140Z"
    }
   },
   "outputs": [],
   "source": [
    "λ = 1.2e-6"
   ]
  },
  {
   "cell_type": "code",
   "execution_count": 6,
   "metadata": {
    "ExecuteTime": {
     "end_time": "2020-06-21T22:44:43.049597Z",
     "start_time": "2020-06-21T22:44:42.725999Z"
    }
   },
   "outputs": [],
   "source": [
    "# environ.set_geometry(λ, wg, name=\"structure\", subs_thickness=3e-6, cap_thickness=0.5e-6, x_core=0, left=True, right=True)"
   ]
  },
  {
   "cell_type": "code",
   "execution_count": 5,
   "metadata": {
    "ExecuteTime": {
     "end_time": "2020-06-21T23:11:04.147072Z",
     "start_time": "2020-06-21T23:11:03.316034Z"
    }
   },
   "outputs": [],
   "source": [
    "environ.produce_environment(wg, λ, left=False)"
   ]
  },
  {
   "cell_type": "code",
   "execution_count": 3,
   "metadata": {
    "ExecuteTime": {
     "end_time": "2020-06-21T23:15:17.014341Z",
     "start_time": "2020-06-21T23:15:15.779305Z"
    }
   },
   "outputs": [],
   "source": [
    "fde = fde.FDEModeSimulator(environ)\n",
    "fde.setup_sim(λ)"
   ]
  },
  {
   "cell_type": "code",
   "execution_count": 5,
   "metadata": {
    "ExecuteTime": {
     "end_time": "2020-06-21T23:17:39.037911Z",
     "start_time": "2020-06-21T23:17:38.383615Z"
    }
   },
   "outputs": [],
   "source": [
    "modes = fde.solve_mode(λ)"
   ]
  },
  {
   "cell_type": "markdown",
   "metadata": {},
   "source": [
    "Looks like it works, now let us test `coupled_wg.py`"
   ]
  },
  {
   "cell_type": "code",
   "execution_count": 1,
   "metadata": {
    "ExecuteTime": {
     "end_time": "2020-06-22T00:25:18.021342Z",
     "start_time": "2020-06-22T00:25:17.445882Z"
    }
   },
   "outputs": [
    {
     "name": "stdout",
     "output_type": "stream",
     "text": [
      "C:\\Users\\dheydari\\Documents\\OneDrive - Stanford\\research\\modules\\pylum\\structure\n"
     ]
    }
   ],
   "source": [
    "import pylum\n",
    "import pylum.structure.waveguide as wg\n",
    "import pylum.fdemode as fde\n",
    "import pylum.structure.ridge_wg as ridge\n",
    "import pylum.structure.coupled_wg as coupled_wg"
   ]
  },
  {
   "cell_type": "code",
   "execution_count": 2,
   "metadata": {
    "ExecuteTime": {
     "end_time": "2020-06-22T00:25:18.756376Z",
     "start_time": "2020-06-22T00:25:18.749425Z"
    }
   },
   "outputs": [],
   "source": [
    "gap = 500e-9\n",
    "gap_etch = 1e-6\n",
    "etch_l = 1.2e-6\n",
    "etch_r = 2.4e-6\n",
    "height = 3e-6\n",
    "width_l = 3e-6\n",
    "width_r = 2e-6\n",
    "wg = coupled_wg.CoupledWaveguide(gap, gap_etch, width_l, width_r, height, etch_l, etch_r)"
   ]
  },
  {
   "cell_type": "code",
   "execution_count": 3,
   "metadata": {
    "ExecuteTime": {
     "end_time": "2020-06-22T00:25:20.713164Z",
     "start_time": "2020-06-22T00:25:20.708157Z"
    }
   },
   "outputs": [],
   "source": [
    "λ = 1.2e-6"
   ]
  },
  {
   "cell_type": "code",
   "execution_count": 4,
   "metadata": {
    "ExecuteTime": {
     "end_time": "2020-06-22T00:25:30.675495Z",
     "start_time": "2020-06-22T00:25:30.670501Z"
    }
   },
   "outputs": [
    {
     "data": {
      "text/plain": [
       "<pylum.structure.coupled_wg.CoupledWaveguide at 0x288ded8a668>"
      ]
     },
     "execution_count": 4,
     "metadata": {},
     "output_type": "execute_result"
    }
   ],
   "source": [
    "wg"
   ]
  },
  {
   "cell_type": "code",
   "execution_count": 5,
   "metadata": {
    "ExecuteTime": {
     "end_time": "2020-06-22T00:25:46.916078Z",
     "start_time": "2020-06-22T00:25:31.228010Z"
    }
   },
   "outputs": [],
   "source": [
    "coupled_environ = coupled_wg.CoupledRidgeWaveguideEnvironment(wg, hideGUI=False)"
   ]
  },
  {
   "cell_type": "code",
   "execution_count": 7,
   "metadata": {
    "ExecuteTime": {
     "end_time": "2020-06-22T00:26:08.584532Z",
     "start_time": "2020-06-22T00:26:06.909548Z"
    }
   },
   "outputs": [],
   "source": [
    "coupled_environ.create_coupled_guides(λ, subs_thickness=3e-6, cap_thickness=0.5e-6)"
   ]
  },
  {
   "cell_type": "code",
   "execution_count": null,
   "metadata": {},
   "outputs": [],
   "source": []
  }
 ],
 "metadata": {
  "kernelspec": {
   "display_name": "Python 3",
   "language": "python",
   "name": "python3"
  },
  "language_info": {
   "codemirror_mode": {
    "name": "ipython",
    "version": 3
   },
   "file_extension": ".py",
   "mimetype": "text/x-python",
   "name": "python",
   "nbconvert_exporter": "python",
   "pygments_lexer": "ipython3",
   "version": "3.7.3"
  }
 },
 "nbformat": 4,
 "nbformat_minor": 2
}
