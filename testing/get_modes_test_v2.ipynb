{
 "cells": [
  {
   "cell_type": "markdown",
   "metadata": {},
   "source": [
    "This notebook is a *test* of a library function that will compute the fields for signal and idler, for any geometry as defined."
   ]
  },
  {
   "cell_type": "code",
   "execution_count": 1,
   "metadata": {
    "ExecuteTime": {
     "end_time": "2020-05-20T23:01:10.314920Z",
     "start_time": "2020-05-20T23:01:08.313130Z"
    }
   },
   "outputs": [],
   "source": [
    "import pylum"
   ]
  },
  {
   "cell_type": "code",
   "execution_count": 2,
   "metadata": {
    "ExecuteTime": {
     "end_time": "2020-05-20T23:01:10.334862Z",
     "start_time": "2020-05-20T23:01:10.320896Z"
    }
   },
   "outputs": [],
   "source": [
    "from pylum.mode_solver import getmodes"
   ]
  },
  {
   "cell_type": "code",
   "execution_count": 3,
   "metadata": {
    "ExecuteTime": {
     "end_time": "2020-05-20T23:01:10.348828Z",
     "start_time": "2020-05-20T23:01:10.342842Z"
    }
   },
   "outputs": [],
   "source": [
    "import lumapi"
   ]
  },
  {
   "cell_type": "code",
   "execution_count": 4,
   "metadata": {
    "ExecuteTime": {
     "end_time": "2020-05-20T23:01:20.530582Z",
     "start_time": "2020-05-20T23:01:10.358794Z"
    }
   },
   "outputs": [],
   "source": [
    "api_object = lumapi.MODE('../template/waveguide_get_modes.lms',hide=True)"
   ]
  },
  {
   "cell_type": "code",
   "execution_count": 5,
   "metadata": {
    "ExecuteTime": {
     "end_time": "2020-05-20T23:01:20.585429Z",
     "start_time": "2020-05-20T23:01:20.532571Z"
    }
   },
   "outputs": [],
   "source": [
    "wg = getmodes.fdeModes(api_object=api_object,width=3,height=3,etch=1.2,wavl=1.2,trial_modes=4,is_TE=True)"
   ]
  },
  {
   "cell_type": "code",
   "execution_count": 6,
   "metadata": {
    "ExecuteTime": {
     "end_time": "2020-05-20T23:01:40.107137Z",
     "start_time": "2020-05-20T23:01:20.590431Z"
    }
   },
   "outputs": [],
   "source": [
    "data = wg.return_wg_data()"
   ]
  },
  {
   "cell_type": "code",
   "execution_count": null,
   "metadata": {},
   "outputs": [],
   "source": []
  }
 ],
 "metadata": {
  "kernelspec": {
   "display_name": "Python 3",
   "language": "python",
   "name": "python3"
  },
  "language_info": {
   "codemirror_mode": {
    "name": "ipython",
    "version": 3
   },
   "file_extension": ".py",
   "mimetype": "text/x-python",
   "name": "python",
   "nbconvert_exporter": "python",
   "pygments_lexer": "ipython3",
   "version": "3.7.3"
  },
  "latex_envs": {
   "LaTeX_envs_menu_present": true,
   "autoclose": false,
   "autocomplete": true,
   "bibliofile": "biblio.bib",
   "cite_by": "apalike",
   "current_citInitial": 1,
   "eqLabelWithNumbers": true,
   "eqNumInitial": 1,
   "hotkeys": {
    "equation": "Ctrl-E",
    "itemize": "Ctrl-I"
   },
   "labels_anchors": false,
   "latex_user_defs": false,
   "report_style_numbering": false,
   "user_envs_cfg": false
  }
 },
 "nbformat": 4,
 "nbformat_minor": 2
}
