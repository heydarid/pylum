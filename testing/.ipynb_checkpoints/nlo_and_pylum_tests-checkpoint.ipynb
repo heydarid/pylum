{
 "cells": [
  {
   "cell_type": "markdown",
   "metadata": {},
   "source": [
    "# NLO/pylum testing"
   ]
  },
  {
   "cell_type": "markdown",
   "metadata": {
    "heading_collapsed": true
   },
   "source": [
    "## Import Mircea's TCAD latest sims (20V, v2)"
   ]
  },
  {
   "cell_type": "code",
   "execution_count": 16,
   "metadata": {
    "ExecuteTime": {
     "end_time": "2020-05-24T03:43:47.486162Z",
     "start_time": "2020-05-24T03:43:47.482175Z"
    },
    "hidden": true
   },
   "outputs": [],
   "source": [
    "import NLO_wg_tools"
   ]
  },
  {
   "cell_type": "code",
   "execution_count": 17,
   "metadata": {
    "ExecuteTime": {
     "end_time": "2020-05-24T03:43:48.512121Z",
     "start_time": "2020-05-24T03:43:47.722227Z"
    },
    "hidden": true
   },
   "outputs": [],
   "source": [
    "from NLO_wg_tools.dc_field_parser import parse_latest_diode_fields"
   ]
  },
  {
   "cell_type": "code",
   "execution_count": 18,
   "metadata": {
    "ExecuteTime": {
     "end_time": "2020-05-24T03:44:03.720581Z",
     "start_time": "2020-05-24T03:43:48.513086Z"
    },
    "hidden": true
   },
   "outputs": [],
   "source": [
    "shallow_etchs_fields, deep_etchs_fields = parse_latest_diode_fields()"
   ]
  },
  {
   "cell_type": "code",
   "execution_count": 19,
   "metadata": {
    "ExecuteTime": {
     "end_time": "2020-05-24T03:44:03.728438Z",
     "start_time": "2020-05-24T03:44:03.722428Z"
    },
    "hidden": true
   },
   "outputs": [
    {
     "data": {
      "text/plain": [
       "True"
      ]
     },
     "execution_count": 19,
     "metadata": {},
     "output_type": "execute_result"
    }
   ],
   "source": [
    "len(shallow_etchs_fields) == len(deep_etchs_fields)"
   ]
  },
  {
   "cell_type": "markdown",
   "metadata": {},
   "source": [
    "# Tests"
   ]
  },
  {
   "cell_type": "markdown",
   "metadata": {
    "heading_collapsed": true
   },
   "source": [
    "### Prelim tests"
   ]
  },
  {
   "cell_type": "code",
   "execution_count": 5,
   "metadata": {
    "ExecuteTime": {
     "end_time": "2020-05-21T22:44:49.613518Z",
     "start_time": "2020-05-21T22:44:49.562655Z"
    },
    "hidden": true
   },
   "outputs": [],
   "source": [
    "wg = getmodes.fdeModes(api_object=apiObject,width=3,height=3,etch=1.2,wavl=1.2,trial_modes=4,is_TE=True)"
   ]
  },
  {
   "cell_type": "code",
   "execution_count": 6,
   "metadata": {
    "ExecuteTime": {
     "end_time": "2020-05-21T22:45:07.794128Z",
     "start_time": "2020-05-21T22:44:52.873844Z"
    },
    "hidden": true
   },
   "outputs": [],
   "source": [
    "data = wg.return_wg_data()"
   ]
  },
  {
   "cell_type": "code",
   "execution_count": 7,
   "metadata": {
    "ExecuteTime": {
     "end_time": "2020-05-21T22:45:07.802953Z",
     "start_time": "2020-05-21T22:45:07.795969Z"
    },
    "hidden": true
   },
   "outputs": [
    {
     "data": {
      "text/plain": [
       "dict_keys(['xaxis', 'yaxis', 'index', 'E_field', 'H_field', 'A_mode', 'n_grp', 'n_eff'])"
      ]
     },
     "execution_count": 7,
     "metadata": {},
     "output_type": "execute_result"
    }
   ],
   "source": [
    "data.keys()"
   ]
  },
  {
   "cell_type": "markdown",
   "metadata": {
    "heading_collapsed": true
   },
   "source": [
    "### Computing modal area"
   ]
  },
  {
   "cell_type": "code",
   "execution_count": 60,
   "metadata": {
    "ExecuteTime": {
     "end_time": "2020-05-21T23:10:57.338575Z",
     "start_time": "2020-05-21T23:10:57.334566Z"
    },
    "hidden": true
   },
   "outputs": [],
   "source": [
    "ef0,ef1 = data['E_field'][0], data['E_field'][1]"
   ]
  },
  {
   "cell_type": "code",
   "execution_count": 101,
   "metadata": {
    "ExecuteTime": {
     "end_time": "2020-05-21T23:18:38.164074Z",
     "start_time": "2020-05-21T23:18:38.158117Z"
    },
    "hidden": true
   },
   "outputs": [
    {
     "data": {
      "text/plain": [
       "(683, 421)"
      ]
     },
     "execution_count": 101,
     "metadata": {},
     "output_type": "execute_result"
    }
   ],
   "source": [
    "np.shape(ef0)"
   ]
  },
  {
   "cell_type": "code",
   "execution_count": 61,
   "metadata": {
    "ExecuteTime": {
     "end_time": "2020-05-21T23:10:57.800761Z",
     "start_time": "2020-05-21T23:10:57.795773Z"
    },
    "hidden": true
   },
   "outputs": [],
   "source": [
    "hf0,hf1 = data['H_field'][0], data['H_field'][1]"
   ]
  },
  {
   "cell_type": "code",
   "execution_count": 146,
   "metadata": {
    "ExecuteTime": {
     "end_time": "2020-05-22T01:27:37.016637Z",
     "start_time": "2020-05-22T01:27:37.011660Z"
    },
    "hidden": true
   },
   "outputs": [],
   "source": [
    "xax = np.diff(data['xaxis']).reshape(len(np.diff(data['xaxis'])),1)  # units are in micron\n",
    "yax = np.diff(data['yaxis']).reshape(len(np.diff(data['yaxis'])),1)"
   ]
  },
  {
   "cell_type": "code",
   "execution_count": 171,
   "metadata": {
    "ExecuteTime": {
     "end_time": "2020-05-22T01:35:34.786079Z",
     "start_time": "2020-05-22T01:35:34.779068Z"
    },
    "hidden": true
   },
   "outputs": [],
   "source": [
    "coordmat = xax*np.transpose(yax)"
   ]
  },
  {
   "cell_type": "code",
   "execution_count": 172,
   "metadata": {
    "ExecuteTime": {
     "end_time": "2020-05-22T01:35:38.584312Z",
     "start_time": "2020-05-22T01:35:38.579310Z"
    },
    "hidden": true
   },
   "outputs": [
    {
     "data": {
      "text/plain": [
       "(682, 420)"
      ]
     },
     "execution_count": 172,
     "metadata": {},
     "output_type": "execute_result"
    }
   ],
   "source": [
    "np.shape(coordmat)"
   ]
  },
  {
   "cell_type": "code",
   "execution_count": 175,
   "metadata": {
    "ExecuteTime": {
     "end_time": "2020-05-22T01:36:54.511871Z",
     "start_time": "2020-05-22T01:36:54.507888Z"
    },
    "hidden": true
   },
   "outputs": [],
   "source": [
    "realcoordmat = np.zeros(np.shape(ef))"
   ]
  },
  {
   "cell_type": "code",
   "execution_count": 176,
   "metadata": {
    "ExecuteTime": {
     "end_time": "2020-05-22T01:36:54.871935Z",
     "start_time": "2020-05-22T01:36:54.866942Z"
    },
    "hidden": true
   },
   "outputs": [
    {
     "data": {
      "text/plain": [
       "(683, 421)"
      ]
     },
     "execution_count": 176,
     "metadata": {},
     "output_type": "execute_result"
    }
   ],
   "source": [
    "np.shape(realcoordmat)"
   ]
  },
  {
   "cell_type": "markdown",
   "metadata": {
    "hidden": true
   },
   "source": [
    "I pad the array with zeros on the far extremes since the diff operation (as I did to perform the left-Riemann sum) makes the arrays I eventually multiply incompatible."
   ]
  },
  {
   "cell_type": "code",
   "execution_count": 180,
   "metadata": {
    "ExecuteTime": {
     "end_time": "2020-05-22T01:39:20.130567Z",
     "start_time": "2020-05-22T01:39:20.124559Z"
    },
    "hidden": true
   },
   "outputs": [],
   "source": [
    "realcoordmat[:coordmat.shape[0],:coordmat.shape[1]] = coordmat"
   ]
  },
  {
   "cell_type": "code",
   "execution_count": 186,
   "metadata": {
    "ExecuteTime": {
     "end_time": "2020-05-22T01:40:02.682313Z",
     "start_time": "2020-05-22T01:40:02.651358Z"
    },
    "hidden": true
   },
   "outputs": [],
   "source": [
    "Sxy = np.real(.5*(ef0*hf1.conj() - ef1*hf0.conj()))"
   ]
  },
  {
   "cell_type": "code",
   "execution_count": 187,
   "metadata": {
    "ExecuteTime": {
     "end_time": "2020-05-22T01:40:02.921638Z",
     "start_time": "2020-05-22T01:40:02.915653Z"
    },
    "hidden": true
   },
   "outputs": [
    {
     "data": {
      "text/plain": [
       "(683, 421)"
      ]
     },
     "execution_count": 187,
     "metadata": {},
     "output_type": "execute_result"
    }
   ],
   "source": [
    "np.shape(Sxy)"
   ]
  },
  {
   "cell_type": "code",
   "execution_count": 191,
   "metadata": {
    "ExecuteTime": {
     "end_time": "2020-05-22T01:42:17.391070Z",
     "start_time": "2020-05-22T01:42:17.382071Z"
    },
    "hidden": true
   },
   "outputs": [],
   "source": [
    "newsum = (Sxy*realcoordmat).sum()*1e-12"
   ]
  },
  {
   "cell_type": "code",
   "execution_count": 206,
   "metadata": {
    "ExecuteTime": {
     "end_time": "2020-05-22T01:43:31.386762Z",
     "start_time": "2020-05-22T01:43:31.379806Z"
    },
    "hidden": true
   },
   "outputs": [
    {
     "data": {
      "text/plain": [
       "1.480540876686086e-14"
      ]
     },
     "execution_count": 206,
     "metadata": {},
     "output_type": "execute_result"
    }
   ],
   "source": [
    "newsum"
   ]
  },
  {
   "cell_type": "markdown",
   "metadata": {
    "hidden": true
   },
   "source": [
    "as compared to (old code)"
   ]
  },
  {
   "cell_type": "code",
   "execution_count": 198,
   "metadata": {
    "ExecuteTime": {
     "end_time": "2020-05-22T01:43:02.304007Z",
     "start_time": "2020-05-22T01:43:02.300017Z"
    },
    "hidden": true
   },
   "outputs": [],
   "source": [
    "diffx = data['xaxis'][1] - data['xaxis'][0]"
   ]
  },
  {
   "cell_type": "code",
   "execution_count": 199,
   "metadata": {
    "ExecuteTime": {
     "end_time": "2020-05-22T01:43:09.968262Z",
     "start_time": "2020-05-22T01:43:09.964299Z"
    },
    "hidden": true
   },
   "outputs": [],
   "source": [
    "diffy = data['yaxis'][1] - data['yaxis'][0]"
   ]
  },
  {
   "cell_type": "code",
   "execution_count": 207,
   "metadata": {
    "ExecuteTime": {
     "end_time": "2020-05-22T01:43:50.888999Z",
     "start_time": "2020-05-22T01:43:50.884012Z"
    },
    "hidden": true
   },
   "outputs": [
    {
     "data": {
      "text/plain": [
       "9.799999999979327"
      ]
     },
     "execution_count": 207,
     "metadata": {},
     "output_type": "execute_result"
    }
   ],
   "source": [
    "diffy/diffx"
   ]
  },
  {
   "cell_type": "code",
   "execution_count": 203,
   "metadata": {
    "ExecuteTime": {
     "end_time": "2020-05-22T01:43:22.168939Z",
     "start_time": "2020-05-22T01:43:22.163986Z"
    },
    "hidden": true
   },
   "outputs": [
    {
     "data": {
      "text/plain": [
       "0.000980000000002069"
      ]
     },
     "execution_count": 203,
     "metadata": {},
     "output_type": "execute_result"
    }
   ],
   "source": [
    "diffx*diffy"
   ]
  },
  {
   "cell_type": "code",
   "execution_count": 204,
   "metadata": {
    "ExecuteTime": {
     "end_time": "2020-05-22T01:43:22.391750Z",
     "start_time": "2020-05-22T01:43:22.387757Z"
    },
    "hidden": true
   },
   "outputs": [],
   "source": [
    "oldsum = Sxy.sum()*diffx*diffy*1e-12"
   ]
  },
  {
   "cell_type": "code",
   "execution_count": 209,
   "metadata": {
    "ExecuteTime": {
     "end_time": "2020-05-22T05:08:46.581994Z",
     "start_time": "2020-05-22T05:08:46.562044Z"
    },
    "hidden": true
   },
   "outputs": [
    {
     "data": {
      "text/plain": [
       "1.4510171851033811e-13"
      ]
     },
     "execution_count": 209,
     "metadata": {},
     "output_type": "execute_result"
    }
   ],
   "source": [
    "oldsum"
   ]
  },
  {
   "cell_type": "code",
   "execution_count": 208,
   "metadata": {
    "ExecuteTime": {
     "end_time": "2020-05-22T01:44:06.009450Z",
     "start_time": "2020-05-22T01:44:06.004449Z"
    },
    "hidden": true
   },
   "outputs": [
    {
     "data": {
      "text/plain": [
       "1.4806297807208592e-14"
      ]
     },
     "execution_count": 208,
     "metadata": {},
     "output_type": "execute_result"
    }
   ],
   "source": [
    "oldsum/(diffy/diffx)"
   ]
  },
  {
   "cell_type": "markdown",
   "metadata": {
    "heading_collapsed": true
   },
   "source": [
    "### more tests, using module functions"
   ]
  },
  {
   "cell_type": "code",
   "execution_count": 4,
   "metadata": {
    "ExecuteTime": {
     "end_time": "2020-05-24T07:15:23.706307Z",
     "start_time": "2020-05-24T07:15:23.193659Z"
    },
    "hidden": true
   },
   "outputs": [],
   "source": [
    "import pylum"
   ]
  },
  {
   "cell_type": "code",
   "execution_count": 5,
   "metadata": {
    "ExecuteTime": {
     "end_time": "2020-05-24T07:15:23.714276Z",
     "start_time": "2020-05-24T07:15:23.708259Z"
    },
    "hidden": true
   },
   "outputs": [],
   "source": [
    "import pylum.structure.waveguide as wg"
   ]
  },
  {
   "cell_type": "code",
   "execution_count": 6,
   "metadata": {
    "ExecuteTime": {
     "end_time": "2020-05-24T07:15:23.803032Z",
     "start_time": "2020-05-24T07:15:23.794029Z"
    },
    "hidden": true
   },
   "outputs": [
    {
     "name": "stdout",
     "output_type": "stream",
     "text": [
      "C:\\Users\\dheydari\\Documents\\OneDrive - Stanford\\research\\modules\\pylum\n"
     ]
    }
   ],
   "source": [
    "import pylum.fdemode as fdemode"
   ]
  },
  {
   "cell_type": "code",
   "execution_count": 7,
   "metadata": {
    "ExecuteTime": {
     "end_time": "2020-05-24T07:15:24.126545Z",
     "start_time": "2020-05-24T07:15:24.122530Z"
    },
    "hidden": true
   },
   "outputs": [],
   "source": [
    "w, h, e = 3, 3, 1.2"
   ]
  },
  {
   "cell_type": "code",
   "execution_count": 8,
   "metadata": {
    "ExecuteTime": {
     "end_time": "2020-05-24T07:15:24.430018Z",
     "start_time": "2020-05-24T07:15:24.426059Z"
    },
    "hidden": true
   },
   "outputs": [],
   "source": [
    "wg = wg.Waveguide(w,h,e)"
   ]
  },
  {
   "cell_type": "code",
   "execution_count": 9,
   "metadata": {
    "ExecuteTime": {
     "end_time": "2020-05-24T07:15:24.759469Z",
     "start_time": "2020-05-24T07:15:24.755479Z"
    },
    "hidden": true
   },
   "outputs": [],
   "source": [
    "λ0_p = 1.2"
   ]
  },
  {
   "cell_type": "code",
   "execution_count": 7,
   "metadata": {
    "ExecuteTime": {
     "end_time": "2020-05-24T03:50:04.381878Z",
     "start_time": "2020-05-24T03:49:57.322008Z"
    },
    "hidden": true
   },
   "outputs": [],
   "source": [
    "wg_sim = fdemode.FDEModes(wg, λ0_p, True, 4, True)"
   ]
  },
  {
   "cell_type": "code",
   "execution_count": 10,
   "metadata": {
    "ExecuteTime": {
     "end_time": "2020-05-24T07:15:29.160308Z",
     "start_time": "2020-05-24T07:15:29.154324Z"
    },
    "hidden": true
   },
   "outputs": [],
   "source": [
    "import NLO_wg_tools"
   ]
  },
  {
   "cell_type": "code",
   "execution_count": 11,
   "metadata": {
    "ExecuteTime": {
     "end_time": "2020-05-24T07:15:29.366856Z",
     "start_time": "2020-05-24T07:15:29.362842Z"
    },
    "hidden": true
   },
   "outputs": [],
   "source": [
    "import numpy as np"
   ]
  },
  {
   "cell_type": "code",
   "execution_count": 12,
   "metadata": {
    "ExecuteTime": {
     "end_time": "2020-05-24T07:15:29.580066Z",
     "start_time": "2020-05-24T07:15:29.570115Z"
    },
    "hidden": true
   },
   "outputs": [],
   "source": [
    "import NLO_wg_tools.nlo_waveguide as nlo"
   ]
  },
  {
   "cell_type": "code",
   "execution_count": 11,
   "metadata": {
    "ExecuteTime": {
     "end_time": "2020-05-24T03:50:19.514428Z",
     "start_time": "2020-05-24T03:50:04.412799Z"
    },
    "hidden": true
   },
   "outputs": [],
   "source": [
    "sim_data = wg_sim.return_wg_data()"
   ]
  },
  {
   "cell_type": "code",
   "execution_count": 13,
   "metadata": {
    "ExecuteTime": {
     "end_time": "2020-05-24T07:16:28.952305Z",
     "start_time": "2020-05-24T07:15:37.586170Z"
    },
    "hidden": true
   },
   "outputs": [],
   "source": [
    "degnt_modes = nlo.get_degnt_nlo_modes(wg, 1.2, True, 4, True)"
   ]
  },
  {
   "cell_type": "code",
   "execution_count": 13,
   "metadata": {
    "ExecuteTime": {
     "end_time": "2020-05-24T03:51:20.270011Z",
     "start_time": "2020-05-24T03:51:11.506401Z"
    },
    "hidden": true
   },
   "outputs": [
    {
     "data": {
      "text/plain": [
       "dict_keys(['#', 'X', 'Y', 'Ex', 'Ey', 'V', 'Wg_width', 'slab_d', 'etch'])"
      ]
     },
     "execution_count": 13,
     "metadata": {},
     "output_type": "execute_result"
    }
   ],
   "source": [
    "from NLO_wg_tools.dc_field_parser import parse_latest_diode_fields\n",
    "shallow_etchs_fields, deep_etchs_fields = parse_latest_diode_fields()\n",
    "shallow_etchs_fields[0].keys()"
   ]
  },
  {
   "cell_type": "code",
   "execution_count": 23,
   "metadata": {
    "ExecuteTime": {
     "end_time": "2020-05-24T04:05:07.769771Z",
     "start_time": "2020-05-24T04:05:07.763791Z"
    },
    "hidden": true
   },
   "outputs": [
    {
     "data": {
      "text/plain": [
       "2.0"
      ]
     },
     "execution_count": 23,
     "metadata": {},
     "output_type": "execute_result"
    }
   ],
   "source": [
    "E_dc_test = shallow_etchs_fields[0]"
   ]
  },
  {
   "cell_type": "code",
   "execution_count": null,
   "metadata": {
    "hidden": true
   },
   "outputs": [],
   "source": [
    "nlo.coupling_normd(degnt_modes, E_dc_test)"
   ]
  },
  {
   "cell_type": "markdown",
   "metadata": {
    "heading_collapsed": true
   },
   "source": [
    "### tying together nlo_tools module and pylum"
   ]
  },
  {
   "cell_type": "code",
   "execution_count": 1,
   "metadata": {
    "ExecuteTime": {
     "end_time": "2020-05-25T02:01:26.384038Z",
     "start_time": "2020-05-25T02:01:25.843441Z"
    },
    "hidden": true
   },
   "outputs": [
    {
     "name": "stdout",
     "output_type": "stream",
     "text": [
      "C:\\Users\\dheydari\\Documents\\OneDrive - Stanford\\research\\modules\\pylum\n"
     ]
    }
   ],
   "source": [
    "import pylum\n",
    "import pylum.fdemode as fdemode\n",
    "import numpy as np"
   ]
  },
  {
   "cell_type": "code",
   "execution_count": 2,
   "metadata": {
    "ExecuteTime": {
     "end_time": "2020-05-25T02:01:35.783886Z",
     "start_time": "2020-05-25T02:01:26.386997Z"
    },
    "hidden": true
   },
   "outputs": [
    {
     "data": {
      "text/plain": [
       "dict_keys(['#', 'X', 'Y', 'Ex', 'Ey', 'V', 'slab_d', 'Waveguide'])"
      ]
     },
     "execution_count": 2,
     "metadata": {},
     "output_type": "execute_result"
    }
   ],
   "source": [
    "from NLO_wg_tools.dc_field_parser import parse_latest_diode_fields\n",
    "shallow_etchs_fields, deep_etchs_fields = parse_latest_diode_fields()\n",
    "shallow_etchs_fields[0].keys()"
   ]
  },
  {
   "cell_type": "code",
   "execution_count": 3,
   "metadata": {
    "ExecuteTime": {
     "end_time": "2020-05-25T02:01:35.793867Z",
     "start_time": "2020-05-25T02:01:35.785873Z"
    },
    "hidden": true
   },
   "outputs": [],
   "source": [
    "import NLO_wg_tools.nlo_waveguide as nlo"
   ]
  },
  {
   "cell_type": "code",
   "execution_count": 4,
   "metadata": {
    "ExecuteTime": {
     "end_time": "2020-05-25T02:01:35.801830Z",
     "start_time": "2020-05-25T02:01:35.796843Z"
    },
    "hidden": true
   },
   "outputs": [],
   "source": [
    "import NLO_wg_tools.dc_field_parser as dc"
   ]
  },
  {
   "cell_type": "code",
   "execution_count": 7,
   "metadata": {
    "ExecuteTime": {
     "end_time": "2020-05-25T02:03:24.163774Z",
     "start_time": "2020-05-25T02:02:37.085770Z"
    },
    "hidden": true
   },
   "outputs": [
    {
     "data": {
      "text/plain": [
       "7.572950016782095"
      ]
     },
     "execution_count": 7,
     "metadata": {},
     "output_type": "execute_result"
    }
   ],
   "source": [
    "nlo.coupling_normd(shallow_etchs_fields[0], 1.2)"
   ]
  },
  {
   "cell_type": "code",
   "execution_count": 5,
   "metadata": {
    "ExecuteTime": {
     "end_time": "2020-05-25T02:02:24.089674Z",
     "start_time": "2020-05-25T02:01:37.028965Z"
    },
    "hidden": true
   },
   "outputs": [],
   "source": [
    "degnt_modes = nlo.get_degnt_nlo_modes_efish(shallow_etchs_fields[0], 1.2)"
   ]
  },
  {
   "cell_type": "code",
   "execution_count": 16,
   "metadata": {
    "ExecuteTime": {
     "end_time": "2020-05-25T01:39:51.075398Z",
     "start_time": "2020-05-25T01:39:51.027524Z"
    },
    "hidden": true
   },
   "outputs": [],
   "source": [
    "dcfields = dc.dc_interpolate(shallow_etchs_fields[0],degnt_modes['pump data'].E_field)"
   ]
  },
  {
   "cell_type": "code",
   "execution_count": 6,
   "metadata": {
    "ExecuteTime": {
     "end_time": "2020-05-25T02:02:24.102601Z",
     "start_time": "2020-05-25T02:02:24.091656Z"
    },
    "hidden": true
   },
   "outputs": [
    {
     "data": {
      "text/plain": [
       "array([[9.80000000e-16, 9.80000000e-16, 7.57197333e-16, ...,\n",
       "        9.80000000e-16, 9.80000000e-16, 0.00000000e+00],\n",
       "       [9.80000000e-16, 9.80000000e-16, 7.57197333e-16, ...,\n",
       "        9.80000000e-16, 9.80000000e-16, 0.00000000e+00],\n",
       "       [9.80000000e-16, 9.80000000e-16, 7.57197333e-16, ...,\n",
       "        9.80000000e-16, 9.80000000e-16, 0.00000000e+00],\n",
       "       ...,\n",
       "       [9.80000000e-16, 9.80000000e-16, 7.57197333e-16, ...,\n",
       "        9.80000000e-16, 9.80000000e-16, 0.00000000e+00],\n",
       "       [9.80000000e-16, 9.80000000e-16, 7.57197333e-16, ...,\n",
       "        9.80000000e-16, 9.80000000e-16, 0.00000000e+00],\n",
       "       [0.00000000e+00, 0.00000000e+00, 0.00000000e+00, ...,\n",
       "        0.00000000e+00, 0.00000000e+00, 0.00000000e+00]])"
      ]
     },
     "execution_count": 6,
     "metadata": {},
     "output_type": "execute_result"
    }
   ],
   "source": [
    "nlo.get_dxdy(degnt_modes['pump data'])"
   ]
  },
  {
   "cell_type": "code",
   "execution_count": 30,
   "metadata": {
    "ExecuteTime": {
     "end_time": "2020-05-25T01:47:19.630423Z",
     "start_time": "2020-05-25T01:47:19.618441Z"
    },
    "hidden": true
   },
   "outputs": [
    {
     "data": {
      "text/plain": [
       "(583, 421)"
      ]
     },
     "execution_count": 30,
     "metadata": {},
     "output_type": "execute_result"
    }
   ],
   "source": [
    "np.shape(nlo.d_ind(0,0,0,dcfields,rho=1.27))"
   ]
  },
  {
   "cell_type": "markdown",
   "metadata": {
    "hidden": true
   },
   "source": [
    "#### Cropper"
   ]
  },
  {
   "cell_type": "code",
   "execution_count": 16,
   "metadata": {
    "ExecuteTime": {
     "end_time": "2020-05-24T10:26:19.030359Z",
     "start_time": "2020-05-24T10:26:19.017422Z"
    },
    "hidden": true
   },
   "outputs": [
    {
     "data": {
      "text/plain": [
       "(583, 421)"
      ]
     },
     "execution_count": 16,
     "metadata": {},
     "output_type": "execute_result"
    }
   ],
   "source": [
    "np.shape(nlo.d_ind(0,0,0,E_dc_test,1.27))"
   ]
  },
  {
   "cell_type": "code",
   "execution_count": 19,
   "metadata": {
    "ExecuteTime": {
     "end_time": "2020-05-24T22:42:58.685294Z",
     "start_time": "2020-05-24T22:42:58.668310Z"
    },
    "hidden": true
   },
   "outputs": [
    {
     "data": {
      "text/plain": [
       "(3, 583, 421)"
      ]
     },
     "execution_count": 19,
     "metadata": {},
     "output_type": "execute_result"
    }
   ],
   "source": [
    "np.shape(osd['pump data'].E_field)"
   ]
  },
  {
   "cell_type": "code",
   "execution_count": 17,
   "metadata": {
    "ExecuteTime": {
     "end_time": "2020-05-24T22:42:48.111795Z",
     "start_time": "2020-05-24T22:42:48.106796Z"
    },
    "hidden": true
   },
   "outputs": [],
   "source": [
    "import operator\n",
    "def cropND(img, bounding):\n",
    "    start = tuple(map(lambda a, da: a//2-da//2, np.shape(img), bounding))\n",
    "    end = tuple(map(operator.add, start, bounding))\n",
    "    slices = tuple(map(slice, start, end))\n",
    "    print(slices)\n",
    "    return np.array(img)[slices]"
   ]
  },
  {
   "cell_type": "code",
   "execution_count": 20,
   "metadata": {
    "ExecuteTime": {
     "end_time": "2020-05-24T22:43:02.586086Z",
     "start_time": "2020-05-24T22:43:02.556161Z"
    },
    "hidden": true
   },
   "outputs": [
    {
     "name": "stdout",
     "output_type": "stream",
     "text": [
      "(slice(0, 3, None), slice(0, 583, None), slice(0, 421, None))\n"
     ]
    },
    {
     "data": {
      "text/plain": [
       "(3, 583, 421)"
      ]
     },
     "execution_count": 20,
     "metadata": {},
     "output_type": "execute_result"
    }
   ],
   "source": [
    "np.shape(cropND(osd['pump data'].E_field,(3,583,421)))"
   ]
  },
  {
   "cell_type": "code",
   "execution_count": 19,
   "metadata": {
    "ExecuteTime": {
     "end_time": "2020-05-24T10:32:32.586914Z",
     "start_time": "2020-05-24T10:32:32.576913Z"
    },
    "hidden": true
   },
   "outputs": [
    {
     "data": {
      "text/plain": [
       "(583, 421)"
      ]
     },
     "execution_count": 19,
     "metadata": {},
     "output_type": "execute_result"
    }
   ],
   "source": [
    "np.shape(degnt_modes['pump data'].E_field[0].conj())"
   ]
  },
  {
   "cell_type": "code",
   "execution_count": 37,
   "metadata": {
    "ExecuteTime": {
     "end_time": "2020-05-24T10:43:45.473743Z",
     "start_time": "2020-05-24T10:43:45.282216Z"
    },
    "hidden": true
   },
   "outputs": [
    {
     "data": {
      "text/plain": [
       "<matplotlib.image.AxesImage at 0x18f1a0e45c0>"
      ]
     },
     "execution_count": 37,
     "metadata": {},
     "output_type": "execute_result"
    },
    {
     "data": {
      "image/png": "[encoded data removed]",
      "text/plain": [
       "<Figure size 432x288 with 1 Axes>"
      ]
     },
     "metadata": {
      "needs_background": "light"
     },
     "output_type": "display_data"
    }
   ],
   "source": [
    "import matplotlib.pyplot as plt\n",
    "%matplotlib inline\n",
    "from matplotlib import cm\n",
    "plt.imshow(np.abs(degnt_modes['sig data'].E_field[0].T.conj()),cmap=cm.jet,\n",
    "           origin='lower')"
   ]
  },
  {
   "cell_type": "code",
   "execution_count": 64,
   "metadata": {
    "ExecuteTime": {
     "end_time": "2020-05-24T21:39:11.455106Z",
     "start_time": "2020-05-24T21:39:11.218767Z"
    },
    "hidden": true
   },
   "outputs": [
    {
     "data": {
      "text/plain": [
       "<matplotlib.image.AxesImage at 0x18f199146a0>"
      ]
     },
     "execution_count": 64,
     "metadata": {},
     "output_type": "execute_result"
    },
    {
     "data": {
      "image/png": "[encoded data removed]",
      "text/plain": [
       "<Figure size 432x288 with 1 Axes>"
      ]
     },
     "metadata": {
      "needs_background": "light"
     },
     "output_type": "display_data"
    }
   ],
   "source": [
    "import matplotlib.pyplot as plt\n",
    "%matplotlib inline\n",
    "from matplotlib import cm\n",
    "plt.imshow(np.abs(degnt_modes['pump data'].E_field[0].T.conj()),cmap=cm.jet,\n",
    "           origin='lower')"
   ]
  },
  {
   "cell_type": "code",
   "execution_count": 52,
   "metadata": {
    "ExecuteTime": {
     "end_time": "2020-05-24T21:31:37.650902Z",
     "start_time": "2020-05-24T21:31:37.417527Z"
    },
    "hidden": true
   },
   "outputs": [
    {
     "data": {
      "text/plain": [
       "<matplotlib.image.AxesImage at 0x18f19d234e0>"
      ]
     },
     "execution_count": 52,
     "metadata": {},
     "output_type": "execute_result"
    },
    {
     "data": {
      "image/png": "[encoded data removed]",
      "text/plain": [
       "<Figure size 432x288 with 1 Axes>"
      ]
     },
     "metadata": {
      "needs_background": "light"
     },
     "output_type": "display_data"
    }
   ],
   "source": [
    "cropped_sig = cropND(degnt_modes['sig data'].E_field[0].conj(),(583,421))\n",
    "\n",
    "import matplotlib.pyplot as plt\n",
    "%matplotlib inline\n",
    "from matplotlib import cm\n",
    "plt.imshow(np.abs(cropped_sig.T),cmap=cm.jet,\n",
    "           origin='lower')"
   ]
  },
  {
   "cell_type": "code",
   "execution_count": 66,
   "metadata": {
    "ExecuteTime": {
     "end_time": "2020-05-24T21:39:34.300808Z",
     "start_time": "2020-05-24T21:39:34.066463Z"
    },
    "hidden": true
   },
   "outputs": [
    {
     "data": {
      "text/plain": [
       "<matplotlib.image.AxesImage at 0x18f19f49da0>"
      ]
     },
     "execution_count": 66,
     "metadata": {},
     "output_type": "execute_result"
    },
    {
     "data": {
      "image/png": "[encoded data removed]",
      "text/plain": [
       "<Figure size 432x288 with 1 Axes>"
      ]
     },
     "metadata": {
      "needs_background": "light"
     },
     "output_type": "display_data"
    }
   ],
   "source": [
    "cropped_pump = cropND(degnt_modes['pump data'].E_field[0].conj(),(583,421))\n",
    "\n",
    "import matplotlib.pyplot as plt\n",
    "%matplotlib inline\n",
    "from matplotlib import cm\n",
    "plt.imshow(np.abs(cropped_pump.T),cmap=cm.jet,\n",
    "           origin='lower')"
   ]
  },
  {
   "cell_type": "markdown",
   "metadata": {
    "hidden": true
   },
   "source": [
    "#### contd"
   ]
  },
  {
   "cell_type": "markdown",
   "metadata": {
    "heading_collapsed": true
   },
   "source": [
    "## More tests with updated fdemode"
   ]
  },
  {
   "cell_type": "markdown",
   "metadata": {
    "heading_collapsed": true,
    "hidden": true
   },
   "source": [
    "### function mods"
   ]
  },
  {
   "cell_type": "code",
   "execution_count": 5,
   "metadata": {
    "ExecuteTime": {
     "end_time": "2020-06-04T03:00:45.382619Z",
     "start_time": "2020-06-04T03:00:44.784093Z"
    },
    "hidden": true
   },
   "outputs": [],
   "source": [
    "import pylum\n",
    "import numpy as np"
   ]
  },
  {
   "cell_type": "code",
   "execution_count": 2,
   "metadata": {
    "ExecuteTime": {
     "end_time": "2020-06-01T14:39:25.578557Z",
     "start_time": "2020-06-01T14:39:25.569580Z"
    },
    "hidden": true
   },
   "outputs": [],
   "source": [
    "import pylum.structure.waveguide as wg"
   ]
  },
  {
   "cell_type": "code",
   "execution_count": 3,
   "metadata": {
    "ExecuteTime": {
     "end_time": "2020-06-01T14:39:25.598504Z",
     "start_time": "2020-06-01T14:39:25.582545Z"
    },
    "hidden": true
   },
   "outputs": [
    {
     "name": "stdout",
     "output_type": "stream",
     "text": [
      "C:\\Users\\dheydari\\Documents\\OneDrive - Stanford\\research\\modules\\pylum\n"
     ]
    }
   ],
   "source": [
    "import pylum.fdemode as fdemode"
   ]
  },
  {
   "cell_type": "code",
   "execution_count": 4,
   "metadata": {
    "ExecuteTime": {
     "end_time": "2020-06-01T14:41:18.542021Z",
     "start_time": "2020-06-01T14:39:25.869179Z"
    },
    "hidden": true
   },
   "outputs": [],
   "source": [
    "w, h, e = 3, 3, 1.2\n",
    "wg = wg.Waveguide(w,h,e)\n",
    "λ0_p = 1.2  # microns\n",
    "Δλ = 0.1\n",
    "wg_sim = fdemode.FDEModes(wg, λ0_p, Δλ, N_sweep=3)\n",
    "data = wg_sim.return_wg_data()"
   ]
  },
  {
   "cell_type": "code",
   "execution_count": 6,
   "metadata": {
    "ExecuteTime": {
     "end_time": "2020-06-01T14:41:37.994525Z",
     "start_time": "2020-06-01T14:41:37.987574Z"
    },
    "hidden": true
   },
   "outputs": [
    {
     "data": {
      "text/plain": [
       "array([[3.51039514],\n",
       "       [3.50398437],\n",
       "       [3.49747602]])"
      ]
     },
     "execution_count": 6,
     "metadata": {},
     "output_type": "execute_result"
    }
   ],
   "source": [
    "data.n_effs"
   ]
  },
  {
   "cell_type": "code",
   "execution_count": 18,
   "metadata": {
    "ExecuteTime": {
     "end_time": "2020-06-01T13:31:54.607584Z",
     "start_time": "2020-06-01T13:31:54.586640Z"
    },
    "hidden": true
   },
   "outputs": [
    {
     "data": {
      "text/plain": [
       "(3, 683, 421)"
      ]
     },
     "execution_count": 18,
     "metadata": {},
     "output_type": "execute_result"
    }
   ],
   "source": [
    "np.shape(np.zeros(np.shape(data.E_fields[0])))"
   ]
  },
  {
   "cell_type": "code",
   "execution_count": 72,
   "metadata": {
    "ExecuteTime": {
     "end_time": "2020-06-01T13:58:47.907374Z",
     "start_time": "2020-06-01T13:58:47.900383Z"
    },
    "hidden": true
   },
   "outputs": [],
   "source": [
    "def get_dxdy(sim_data):\n",
    "    xax = np.diff(sim_data.xaxis).reshape(len(np.diff(sim_data.xaxis)),1)\n",
    "    yax = np.diff(sim_data.yaxis).reshape(len(np.diff(sim_data.yaxis)),1)\n",
    "    coordmat = xax*np.transpose(yax)\n",
    "    realcoordmat = np.zeros(np.shape(sim_data.E_fields))\n",
    "    realcoordmat[:,:,:coordmat.shape[0],:coordmat.shape[1]] = coordmat\n",
    "    return realcoordmat"
   ]
  },
  {
   "cell_type": "code",
   "execution_count": 187,
   "metadata": {
    "ExecuteTime": {
     "end_time": "2020-06-01T14:37:06.805154Z",
     "start_time": "2020-06-01T14:37:06.798170Z"
    },
    "hidden": true
   },
   "outputs": [],
   "source": [
    "def compute_Aeff(sim_data):\n",
    "    dA = get_dxdy(sim_data)\n",
    "    e = [sim_data.E_fields[i] for i in range(np.shape(data.lambdas)[0])]\n",
    "    h = [sim_data.H_fields[i] for i in range(np.shape(data.lambdas)[0])]\n",
    "    Sxy = [(1/2)*np.real(E[0]*np.conj(H[1]) - E[1]*np.conj(H[0])) for E in e for H in h]\n",
    "    product = [(Sxy[i]*dA[i][0]).sum() for i in range(np.shape(data.lambdas)[0])]\n",
    "    return product"
   ]
  },
  {
   "cell_type": "code",
   "execution_count": 188,
   "metadata": {
    "ExecuteTime": {
     "end_time": "2020-06-01T14:37:07.340268Z",
     "start_time": "2020-06-01T14:37:07.052040Z"
    },
    "hidden": true
   },
   "outputs": [
    {
     "data": {
      "text/plain": [
       "[1.480540876731474e-14, 1.4807965439409824e-14, 1.4812565311499785e-14]"
      ]
     },
     "execution_count": 188,
     "metadata": {},
     "output_type": "execute_result"
    }
   ],
   "source": [
    "compute_Aeff(data)"
   ]
  },
  {
   "cell_type": "code",
   "execution_count": 7,
   "metadata": {
    "ExecuteTime": {
     "end_time": "2020-06-01T14:42:41.883412Z",
     "start_time": "2020-06-01T14:42:40.939888Z"
    },
    "hidden": true
   },
   "outputs": [],
   "source": [
    "import NLO_wg_tools\n",
    "import numpy as np\n",
    "import NLO_wg_tools.nlo_waveguide as nlo"
   ]
  },
  {
   "cell_type": "code",
   "execution_count": 40,
   "metadata": {
    "ExecuteTime": {
     "end_time": "2020-06-01T15:01:57.525793Z",
     "start_time": "2020-06-01T15:01:57.521794Z"
    },
    "hidden": true
   },
   "outputs": [],
   "source": [
    "from NLO_wg_tools import dc_field_parser"
   ]
  },
  {
   "cell_type": "code",
   "execution_count": 8,
   "metadata": {
    "ExecuteTime": {
     "end_time": "2020-06-01T14:42:50.134316Z",
     "start_time": "2020-06-01T14:42:41.885390Z"
    },
    "hidden": true
   },
   "outputs": [
    {
     "data": {
      "text/plain": [
       "dict_keys(['#', 'X', 'Y', 'Ex', 'Ey', 'V', 'slab_d', 'Waveguide'])"
      ]
     },
     "execution_count": 8,
     "metadata": {},
     "output_type": "execute_result"
    }
   ],
   "source": [
    "from NLO_wg_tools.dc_field_parser import parse_latest_diode_fields\n",
    "shallow_etchs_fields, deep_etchs_fields = parse_latest_diode_fields()\n",
    "shallow_etchs_fields[0].keys()"
   ]
  },
  {
   "cell_type": "code",
   "execution_count": 9,
   "metadata": {
    "ExecuteTime": {
     "end_time": "2020-06-01T14:42:50.143301Z",
     "start_time": "2020-06-01T14:42:50.137286Z"
    },
    "hidden": true
   },
   "outputs": [
    {
     "data": {
      "text/plain": [
       "2e-06"
      ]
     },
     "execution_count": 9,
     "metadata": {},
     "output_type": "execute_result"
    }
   ],
   "source": [
    "shallow_etchs_fields[0]['Waveguide'].width"
   ]
  },
  {
   "cell_type": "code",
   "execution_count": 10,
   "metadata": {
    "ExecuteTime": {
     "end_time": "2020-06-01T14:42:50.151248Z",
     "start_time": "2020-06-01T14:42:50.146262Z"
    },
    "hidden": true
   },
   "outputs": [],
   "source": [
    "dict_test = shallow_etchs_fields[0]"
   ]
  },
  {
   "cell_type": "code",
   "execution_count": 11,
   "metadata": {
    "ExecuteTime": {
     "end_time": "2020-06-01T14:48:09.485702Z",
     "start_time": "2020-06-01T14:42:54.564878Z"
    },
    "hidden": true
   },
   "outputs": [],
   "source": [
    "degnt_modes = nlo.get_degnt_nlo_modes_efish(dict_test, λ0_p, Δλ, N_sweep=3)"
   ]
  },
  {
   "cell_type": "code",
   "execution_count": 12,
   "metadata": {
    "ExecuteTime": {
     "end_time": "2020-06-01T14:48:09.496669Z",
     "start_time": "2020-06-01T14:48:09.488691Z"
    },
    "hidden": true
   },
   "outputs": [
    {
     "data": {
      "text/plain": [
       "array([[2.40000000e-06],\n",
       "       [2.46315789e-06],\n",
       "       [2.52972973e-06],\n",
       "       [2.60000000e-06]])"
      ]
     },
     "execution_count": 12,
     "metadata": {},
     "output_type": "execute_result"
    }
   ],
   "source": [
    "degnt_modes['sig data'].lambdas"
   ]
  },
  {
   "cell_type": "code",
   "execution_count": 15,
   "metadata": {
    "ExecuteTime": {
     "end_time": "2020-06-01T14:57:27.833375Z",
     "start_time": "2020-06-01T14:57:27.827379Z"
    },
    "hidden": true
   },
   "outputs": [
    {
     "data": {
      "text/plain": [
       "[1.475301417324239e-14,\n",
       " 1.4802251381243304e-14,\n",
       " 1.4853372745481387e-14,\n",
       " 1.490744670142041e-14]"
      ]
     },
     "execution_count": 15,
     "metadata": {},
     "output_type": "execute_result"
    }
   ],
   "source": [
    "degnt_modes['sig data'].A_eff"
   ]
  },
  {
   "cell_type": "code",
   "execution_count": 14,
   "metadata": {
    "ExecuteTime": {
     "end_time": "2020-06-01T14:48:09.514628Z",
     "start_time": "2020-06-01T14:48:09.509635Z"
    },
    "hidden": true
   },
   "outputs": [
    {
     "data": {
      "text/plain": [
       "(4, 1)"
      ]
     },
     "execution_count": 14,
     "metadata": {},
     "output_type": "execute_result"
    }
   ],
   "source": [
    "np.shape(degnt_modes['sig data'].lambdas)"
   ]
  },
  {
   "cell_type": "code",
   "execution_count": 17,
   "metadata": {
    "ExecuteTime": {
     "end_time": "2020-06-01T12:49:05.377931Z",
     "start_time": "2020-06-01T12:49:05.007920Z"
    },
    "hidden": true
   },
   "outputs": [
    {
     "data": {
      "text/plain": [
       "(4, 3, 583, 421)"
      ]
     },
     "execution_count": 17,
     "metadata": {},
     "output_type": "execute_result"
    }
   ],
   "source": [
    "np.shape(nlo.crop_fields(degnt_modes)['pump data'].E_fields)"
   ]
  },
  {
   "cell_type": "code",
   "execution_count": 25,
   "metadata": {
    "ExecuteTime": {
     "end_time": "2020-06-01T14:58:40.481416Z",
     "start_time": "2020-06-01T14:58:40.476417Z"
    },
    "hidden": true
   },
   "outputs": [],
   "source": [
    "import scipy.constants as sc\n",
    "pi = np.pi\n",
    "c0 = sc.physical_constants[\"speed of light in vacuum\"][0]\n",
    "mu0 = sc.mu_0\n",
    "eps0 = sc.epsilon_0\n",
    "Z0 = 1/np.sqrt(eps0/mu0)"
   ]
  },
  {
   "cell_type": "code",
   "execution_count": 191,
   "metadata": {
    "ExecuteTime": {
     "end_time": "2020-06-01T16:07:22.889791Z",
     "start_time": "2020-06-01T16:07:22.882778Z"
    },
    "hidden": true
   },
   "outputs": [
    {
     "data": {
      "text/plain": [
       "array([[2.40000000e-06],\n",
       "       [2.46315789e-06],\n",
       "       [2.52972973e-06],\n",
       "       [2.60000000e-06]])"
      ]
     },
     "execution_count": 191,
     "metadata": {},
     "output_type": "execute_result"
    }
   ],
   "source": [
    "degnt_modes['sig data'].lambdas"
   ]
  },
  {
   "cell_type": "code",
   "execution_count": 188,
   "metadata": {
    "ExecuteTime": {
     "end_time": "2020-06-01T15:55:54.348594Z",
     "start_time": "2020-06-01T15:55:51.182104Z"
    },
    "hidden": true
   },
   "outputs": [
    {
     "name": "stdout",
     "output_type": "stream",
     "text": [
      "[[1.19748158e+24]\n",
      " [1.19482537e+24]\n",
      " [1.19212926e+24]\n",
      " [1.18923442e+24]]\n"
     ]
    },
    {
     "data": {
      "text/plain": [
       "[96.29483522938389, 96.7449344602225, 97.23240222014756, 97.74742726950957]"
      ]
     },
     "execution_count": 188,
     "metadata": {},
     "output_type": "execute_result"
    }
   ],
   "source": [
    "coupling_normd(degnt_modes, dict_test)"
   ]
  },
  {
   "cell_type": "code",
   "execution_count": 189,
   "metadata": {
    "ExecuteTime": {
     "end_time": "2020-06-01T15:55:58.376343Z",
     "start_time": "2020-06-01T15:55:56.244195Z"
    },
    "hidden": true
   },
   "outputs": [
    {
     "name": "stdout",
     "output_type": "stream",
     "text": [
      "[[1.19748158e+24]\n",
      " [1.19482537e+24]\n",
      " [1.19212926e+24]\n",
      " [1.18923442e+24]]\n"
     ]
    },
    {
     "data": {
      "text/plain": [
       "[890.4559231038648, 893.6210112053915, 897.0688496680407, 900.6995599740211]"
      ]
     },
     "execution_count": 189,
     "metadata": {},
     "output_type": "execute_result"
    }
   ],
   "source": [
    "coupling_normd(degnt_modes, dict_test, test=True)"
   ]
  },
  {
   "cell_type": "code",
   "execution_count": 1,
   "metadata": {
    "ExecuteTime": {
     "end_time": "2020-06-01T23:47:04.415381Z",
     "start_time": "2020-06-01T23:47:03.812115Z"
    },
    "hidden": true,
    "scrolled": true
   },
   "outputs": [
    {
     "name": "stdout",
     "output_type": "stream",
     "text": [
      "C:\\Users\\dheydari\\Documents\\OneDrive - Stanford\\research\\modules\\pylum\n"
     ]
    }
   ],
   "source": [
    "import pylum\n",
    "import numpy as np\n",
    "import pylum.structure.waveguide as wg\n",
    "import pylum.fdemode as fdemode"
   ]
  },
  {
   "cell_type": "code",
   "execution_count": 2,
   "metadata": {
    "ExecuteTime": {
     "end_time": "2020-06-01T23:47:05.366432Z",
     "start_time": "2020-06-01T23:47:04.419370Z"
    },
    "hidden": true
   },
   "outputs": [],
   "source": [
    "import NLO_wg_tools\n",
    "import numpy as np\n",
    "import NLO_wg_tools.nlo_waveguide as nlo\n",
    "from NLO_wg_tools import dc_field_parser"
   ]
  },
  {
   "cell_type": "code",
   "execution_count": 3,
   "metadata": {
    "ExecuteTime": {
     "end_time": "2020-06-01T23:47:14.990662Z",
     "start_time": "2020-06-01T23:47:05.368427Z"
    },
    "hidden": true
   },
   "outputs": [
    {
     "data": {
      "text/plain": [
       "dict_keys(['#', 'X', 'Y', 'Ex', 'Ey', 'V', 'slab_d', 'Waveguide'])"
      ]
     },
     "execution_count": 3,
     "metadata": {},
     "output_type": "execute_result"
    }
   ],
   "source": [
    "from NLO_wg_tools.dc_field_parser import parse_latest_diode_fields\n",
    "shallow_etchs_fields, deep_etchs_fields = parse_latest_diode_fields()\n",
    "shallow_etchs_fields[0].keys()"
   ]
  },
  {
   "cell_type": "code",
   "execution_count": 4,
   "metadata": {
    "ExecuteTime": {
     "end_time": "2020-06-01T23:47:14.997671Z",
     "start_time": "2020-06-01T23:47:14.993651Z"
    },
    "hidden": true
   },
   "outputs": [],
   "source": [
    "dict_test = shallow_etchs_fields[0]"
   ]
  },
  {
   "cell_type": "code",
   "execution_count": 5,
   "metadata": {
    "ExecuteTime": {
     "end_time": "2020-06-01T23:47:15.004629Z",
     "start_time": "2020-06-01T23:47:15.000633Z"
    },
    "hidden": true
   },
   "outputs": [],
   "source": [
    "λ0_p = 1.2  # microns\n",
    "Δλ = 0.1"
   ]
  },
  {
   "cell_type": "code",
   "execution_count": 6,
   "metadata": {
    "ExecuteTime": {
     "end_time": "2020-06-01T23:52:53.812056Z",
     "start_time": "2020-06-01T23:47:15.007614Z"
    },
    "hidden": true
   },
   "outputs": [],
   "source": [
    "degnt_modes = nlo.get_degnt_nlo_modes_efish(dict_test, λ0_p, Δλ, N_sweep=3)"
   ]
  },
  {
   "cell_type": "code",
   "execution_count": 7,
   "metadata": {
    "ExecuteTime": {
     "end_time": "2020-06-01T23:52:57.110231Z",
     "start_time": "2020-06-01T23:52:53.817042Z"
    },
    "hidden": true
   },
   "outputs": [
    {
     "data": {
      "text/plain": [
       "array([97.32311915, 97.80844879, 98.33349714, 98.88844517])"
      ]
     },
     "execution_count": 7,
     "metadata": {},
     "output_type": "execute_result"
    }
   ],
   "source": [
    "nlo.coupling_normd(degnt_modes, dict_test)"
   ]
  },
  {
   "cell_type": "code",
   "execution_count": 8,
   "metadata": {
    "ExecuteTime": {
     "end_time": "2020-06-02T15:11:31.790592Z",
     "start_time": "2020-06-02T15:11:31.785606Z"
    },
    "hidden": true
   },
   "outputs": [],
   "source": [
    "E_pump = degnt_modes['pump data'].E_fields"
   ]
  },
  {
   "cell_type": "code",
   "execution_count": 9,
   "metadata": {
    "ExecuteTime": {
     "end_time": "2020-06-02T15:11:41.759054Z",
     "start_time": "2020-06-02T15:11:41.754069Z"
    },
    "hidden": true
   },
   "outputs": [],
   "source": [
    "E_sig = degnt_modes['sig data'].E_fields"
   ]
  },
  {
   "cell_type": "code",
   "execution_count": 12,
   "metadata": {
    "ExecuteTime": {
     "end_time": "2020-06-02T15:12:42.877274Z",
     "start_time": "2020-06-02T15:12:42.872289Z"
    },
    "hidden": true
   },
   "outputs": [],
   "source": [
    "nxy = degnt_modes['pump data'].index\n",
    "xaxis, yaxis = degnt_modes['pump data'].xaxis, degnt_modes['pump data'].yaxis"
   ]
  },
  {
   "cell_type": "code",
   "execution_count": 17,
   "metadata": {
    "ExecuteTime": {
     "end_time": "2020-06-02T15:16:14.391418Z",
     "start_time": "2020-06-02T15:16:14.369450Z"
    },
    "hidden": true
   },
   "outputs": [
    {
     "data": {
      "text/plain": [
       "(4, 3, 583, 421)"
      ]
     },
     "execution_count": 17,
     "metadata": {},
     "output_type": "execute_result"
    }
   ],
   "source": [
    "np.shape(np.array(E_pump))"
   ]
  },
  {
   "cell_type": "code",
   "execution_count": 20,
   "metadata": {
    "ExecuteTime": {
     "end_time": "2020-06-02T15:30:50.492338Z",
     "start_time": "2020-06-02T15:30:50.479344Z"
    },
    "hidden": true
   },
   "outputs": [
    {
     "ename": "AttributeError",
     "evalue": "'SimulationData' object has no attribute 'wg'",
     "output_type": "error",
     "traceback": [
      "\u001b[1;31m---------------------------------------------------------------------------\u001b[0m",
      "\u001b[1;31mAttributeError\u001b[0m                            Traceback (most recent call last)",
      "\u001b[1;32m<ipython-input-20-7d34598434b3>\u001b[0m in \u001b[0;36m<module>\u001b[1;34m\u001b[0m\n\u001b[1;32m----> 1\u001b[1;33m \u001b[0mdegnt_modes\u001b[0m\u001b[1;33m[\u001b[0m\u001b[1;34m'pump data'\u001b[0m\u001b[1;33m]\u001b[0m\u001b[1;33m.\u001b[0m\u001b[0mwg\u001b[0m\u001b[1;33m\u001b[0m\u001b[1;33m\u001b[0m\u001b[0m\n\u001b[0m",
      "\u001b[1;31mAttributeError\u001b[0m: 'SimulationData' object has no attribute 'wg'"
     ]
    }
   ],
   "source": [
    "degnt_modes['pump data'].wg"
   ]
  },
  {
   "cell_type": "markdown",
   "metadata": {
    "heading_collapsed": true,
    "hidden": true
   },
   "source": [
    "### Testing new Degenerate class"
   ]
  },
  {
   "cell_type": "code",
   "execution_count": 1,
   "metadata": {
    "ExecuteTime": {
     "end_time": "2020-06-03T00:21:38.793028Z",
     "start_time": "2020-06-03T00:21:38.202608Z"
    },
    "hidden": true,
    "scrolled": true
   },
   "outputs": [
    {
     "name": "stdout",
     "output_type": "stream",
     "text": [
      "C:\\Users\\dheydari\\Documents\\OneDrive - Stanford\\research\\modules\\pylum\n"
     ]
    }
   ],
   "source": [
    "import pylum\n",
    "import numpy as np\n",
    "import pylum.structure.waveguide as wg\n",
    "import pylum.fdemode as fdemode"
   ]
  },
  {
   "cell_type": "code",
   "execution_count": 2,
   "metadata": {
    "ExecuteTime": {
     "end_time": "2020-06-03T00:21:41.226551Z",
     "start_time": "2020-06-03T00:21:40.339888Z"
    },
    "hidden": true
   },
   "outputs": [],
   "source": [
    "import NLO_wg_tools\n",
    "import numpy as np\n",
    "import NLO_wg_tools.nlo_waveguide as nlo\n",
    "from NLO_wg_tools import dc_field_parser"
   ]
  },
  {
   "cell_type": "code",
   "execution_count": 3,
   "metadata": {
    "ExecuteTime": {
     "end_time": "2020-06-03T00:21:41.237488Z",
     "start_time": "2020-06-03T00:21:41.228514Z"
    },
    "hidden": true
   },
   "outputs": [],
   "source": [
    "import NLO_wg_tools.efish as efish\n",
    "import NLO_wg_tools.efish.degnt_modes as degnt_modes"
   ]
  },
  {
   "cell_type": "code",
   "execution_count": 4,
   "metadata": {
    "ExecuteTime": {
     "end_time": "2020-06-03T00:21:50.533640Z",
     "start_time": "2020-06-03T00:21:41.240479Z"
    },
    "hidden": true
   },
   "outputs": [
    {
     "data": {
      "text/plain": [
       "dict_keys(['#', 'X', 'Y', 'Ex', 'Ey', 'V', 'slab_d', 'Waveguide'])"
      ]
     },
     "execution_count": 4,
     "metadata": {},
     "output_type": "execute_result"
    }
   ],
   "source": [
    "from NLO_wg_tools.dc_field_parser import parse_latest_diode_fields\n",
    "shallow_etchs_fields, deep_etchs_fields = parse_latest_diode_fields()\n",
    "shallow_etchs_fields[0].keys()"
   ]
  },
  {
   "cell_type": "code",
   "execution_count": 5,
   "metadata": {
    "ExecuteTime": {
     "end_time": "2020-06-03T00:22:07.923403Z",
     "start_time": "2020-06-03T00:22:07.918417Z"
    },
    "hidden": true
   },
   "outputs": [],
   "source": [
    "dict_test = shallow_etchs_fields[0]"
   ]
  },
  {
   "cell_type": "code",
   "execution_count": 8,
   "metadata": {
    "ExecuteTime": {
     "end_time": "2020-06-03T00:22:52.853732Z",
     "start_time": "2020-06-03T00:22:52.849740Z"
    },
    "hidden": true
   },
   "outputs": [],
   "source": [
    "λ0_p = 1.2  # microns\n",
    "Δλ = 0.1"
   ]
  },
  {
   "cell_type": "code",
   "execution_count": 9,
   "metadata": {
    "ExecuteTime": {
     "end_time": "2020-06-03T00:34:47.006109Z",
     "start_time": "2020-06-03T00:22:56.040100Z"
    },
    "hidden": true
   },
   "outputs": [],
   "source": [
    "modes = degnt_modes.Degenerate(dict_test, λ0_p, Δλ, N_sweep=3)"
   ]
  },
  {
   "cell_type": "code",
   "execution_count": 27,
   "metadata": {
    "ExecuteTime": {
     "end_time": "2020-06-03T05:33:33.350158Z",
     "start_time": "2020-06-03T05:33:32.987138Z"
    },
    "hidden": true
   },
   "outputs": [
    {
     "data": {
      "text/plain": [
       "(10, 3, 943, 421)"
      ]
     },
     "execution_count": 27,
     "metadata": {},
     "output_type": "execute_result"
    }
   ],
   "source": [
    "np.shape(modes.sig_data.E_fields)"
   ]
  },
  {
   "cell_type": "code",
   "execution_count": 23,
   "metadata": {
    "ExecuteTime": {
     "end_time": "2020-06-03T00:42:22.909276Z",
     "start_time": "2020-06-03T00:42:22.901323Z"
    },
    "hidden": true
   },
   "outputs": [
    {
     "data": {
      "text/plain": [
       "array([1.2e-06])"
      ]
     },
     "execution_count": 23,
     "metadata": {},
     "output_type": "execute_result"
    }
   ],
   "source": [
    "modes.pump_data.lambdas[0]"
   ]
  },
  {
   "cell_type": "code",
   "execution_count": 37,
   "metadata": {
    "ExecuteTime": {
     "end_time": "2020-06-03T06:43:37.669353Z",
     "start_time": "2020-06-03T06:38:02.584521Z"
    },
    "hidden": true
   },
   "outputs": [],
   "source": [
    "modes.mode.setanalysis(\"store mode profiles while tracking\", 1)\n",
    "modes.mode.frequencysweep()"
   ]
  },
  {
   "cell_type": "code",
   "execution_count": 38,
   "metadata": {
    "ExecuteTime": {
     "end_time": "2020-06-03T06:43:37.696294Z",
     "start_time": "2020-06-03T06:43:37.672395Z"
    },
    "hidden": true
   },
   "outputs": [
    {
     "ename": "LumApiError",
     "evalue": "'in getdata, the d-card named FDE::data::frequencysweep did not contain the data Ex\\n  Try the command \\'?getdata(\"FDE::data::frequencysweep\");\\' to see the data contained in FDE::data::frequencysweep.'",
     "output_type": "error",
     "traceback": [
      "\u001b[1;31m---------------------------------------------------------------------------\u001b[0m",
      "\u001b[1;31mLumApiError\u001b[0m                               Traceback (most recent call last)",
      "\u001b[1;32m<ipython-input-38-96b8e22697d7>\u001b[0m in \u001b[0;36m<module>\u001b[1;34m\u001b[0m\n\u001b[1;32m----> 1\u001b[1;33m \u001b[0mmodes\u001b[0m\u001b[1;33m.\u001b[0m\u001b[0mmode\u001b[0m\u001b[1;33m.\u001b[0m\u001b[0mgetdata\u001b[0m\u001b[1;33m(\u001b[0m\u001b[1;34m\"FDE::data::frequencysweep\"\u001b[0m\u001b[1;33m,\u001b[0m \u001b[1;34m\"Ex\"\u001b[0m\u001b[1;33m)\u001b[0m\u001b[1;33m\u001b[0m\u001b[1;33m\u001b[0m\u001b[0m\n\u001b[0m",
      "\u001b[1;32mc:\\Program Files\\Lumerical\\2020a\\api\\python\\lumapi.py\u001b[0m in \u001b[0;36m<lambda>\u001b[1;34m(self, *args)\u001b[0m\n\u001b[0;32m   1136\u001b[0m                 appCallWithConstructor(self, x, args, **kwargs))(name)\n\u001b[0;32m   1137\u001b[0m             \u001b[1;32melse\u001b[0m\u001b[1;33m:\u001b[0m\u001b[1;33m\u001b[0m\u001b[1;33m\u001b[0m\u001b[0m\n\u001b[1;32m-> 1138\u001b[1;33m                 \u001b[0mmethod\u001b[0m \u001b[1;33m=\u001b[0m \u001b[1;33m(\u001b[0m\u001b[1;32mlambda\u001b[0m \u001b[0mx\u001b[0m\u001b[1;33m:\u001b[0m \u001b[1;32mlambda\u001b[0m \u001b[0mself\u001b[0m\u001b[1;33m,\u001b[0m \u001b[1;33m*\u001b[0m\u001b[0margs\u001b[0m\u001b[1;33m:\u001b[0m \u001b[0mappCall\u001b[0m\u001b[1;33m(\u001b[0m\u001b[0mself\u001b[0m\u001b[1;33m,\u001b[0m \u001b[0mx\u001b[0m\u001b[1;33m,\u001b[0m \u001b[0margs\u001b[0m\u001b[1;33m)\u001b[0m\u001b[1;33m)\u001b[0m\u001b[1;33m(\u001b[0m\u001b[0mname\u001b[0m\u001b[1;33m)\u001b[0m\u001b[1;33m\u001b[0m\u001b[1;33m\u001b[0m\u001b[0m\n\u001b[0m\u001b[0;32m   1139\u001b[0m             \u001b[0mmethod\u001b[0m\u001b[1;33m.\u001b[0m\u001b[0m__name__\u001b[0m \u001b[1;33m=\u001b[0m \u001b[0mstr\u001b[0m\u001b[1;33m(\u001b[0m\u001b[0mname\u001b[0m\u001b[1;33m)\u001b[0m\u001b[1;33m\u001b[0m\u001b[1;33m\u001b[0m\u001b[0m\n\u001b[0;32m   1140\u001b[0m             \u001b[1;32mtry\u001b[0m\u001b[1;33m:\u001b[0m\u001b[1;33m\u001b[0m\u001b[1;33m\u001b[0m\u001b[0m\n",
      "\u001b[1;32mc:\\Program Files\\Lumerical\\2020a\\api\\python\\lumapi.py\u001b[0m in \u001b[0;36mappCall\u001b[1;34m(self, name, *args)\u001b[0m\n\u001b[0;32m    799\u001b[0m             \u001b[0margLumTypes\u001b[0m \u001b[1;33m=\u001b[0m \u001b[0mlumTypes\u001b[0m\u001b[1;33m(\u001b[0m\u001b[0mlist\u001b[0m\u001b[1;33m(\u001b[0m\u001b[0margs\u001b[0m\u001b[1;33m[\u001b[0m\u001b[1;36m0\u001b[0m\u001b[1;33m]\u001b[0m\u001b[1;33m)\u001b[0m\u001b[1;33m)\u001b[0m\u001b[1;33m\u001b[0m\u001b[1;33m\u001b[0m\u001b[0m\n\u001b[0;32m    800\u001b[0m             \u001b[0mmessage\u001b[0m \u001b[1;33m+=\u001b[0m \u001b[1;33m(\u001b[0m\u001b[1;34m\" - \"\u001b[0m \u001b[1;33m+\u001b[0m \u001b[0mname\u001b[0m \u001b[1;33m+\u001b[0m \u001b[1;34m\" arguments were converted to (\"\u001b[0m \u001b[1;33m+\u001b[0m \u001b[1;34m\", \"\u001b[0m\u001b[1;33m.\u001b[0m\u001b[0mjoin\u001b[0m\u001b[1;33m(\u001b[0m\u001b[0margLumTypes\u001b[0m\u001b[1;33m)\u001b[0m \u001b[1;33m+\u001b[0m \u001b[1;34m\")\"\u001b[0m\u001b[1;33m)\u001b[0m\u001b[1;33m\u001b[0m\u001b[1;33m\u001b[0m\u001b[0m\n\u001b[1;32m--> 801\u001b[1;33m         \u001b[1;32mraise\u001b[0m \u001b[0mLumApiError\u001b[0m\u001b[1;33m(\u001b[0m\u001b[0mmessage\u001b[0m\u001b[1;33m)\u001b[0m\u001b[1;33m\u001b[0m\u001b[1;33m\u001b[0m\u001b[0m\n\u001b[0m\u001b[0;32m    802\u001b[0m     \u001b[1;32mif\u001b[0m \u001b[0misinstance\u001b[0m\u001b[1;33m(\u001b[0m\u001b[0mrvals\u001b[0m\u001b[1;33m[\u001b[0m\u001b[1;36m0\u001b[0m\u001b[1;33m]\u001b[0m\u001b[1;33m,\u001b[0m \u001b[0mstr\u001b[0m\u001b[1;33m)\u001b[0m \u001b[1;32mand\u001b[0m \u001b[1;33m(\u001b[0m\u001b[0mrvals\u001b[0m\u001b[1;33m[\u001b[0m\u001b[1;36m0\u001b[0m\u001b[1;33m]\u001b[0m \u001b[1;33m==\u001b[0m \u001b[1;34m\"d6d8d1b2c083c251\"\u001b[0m\u001b[1;33m)\u001b[0m\u001b[1;33m:\u001b[0m\u001b[1;33m\u001b[0m\u001b[1;33m\u001b[0m\u001b[0m\n\u001b[0;32m    803\u001b[0m         \u001b[0mrvals\u001b[0m\u001b[1;33m[\u001b[0m\u001b[1;36m0\u001b[0m\u001b[1;33m]\u001b[0m \u001b[1;33m=\u001b[0m \u001b[1;32mNone\u001b[0m\u001b[1;33m\u001b[0m\u001b[1;33m\u001b[0m\u001b[0m\n",
      "\u001b[1;31mLumApiError\u001b[0m: 'in getdata, the d-card named FDE::data::frequencysweep did not contain the data Ex\\n  Try the command \\'?getdata(\"FDE::data::frequencysweep\");\\' to see the data contained in FDE::data::frequencysweep.'"
     ]
    }
   ],
   "source": [
    "modes.mode.getdata(\"FDE::data::frequencysweep\", \"Ex\")"
   ]
  },
  {
   "cell_type": "markdown",
   "metadata": {
    "ExecuteTime": {
     "end_time": "2020-06-03T06:52:37.584212Z",
     "start_time": "2020-06-03T06:52:37.570245Z"
    },
    "heading_collapsed": true
   },
   "source": [
    "## Testing new code edited by Edwin"
   ]
  },
  {
   "cell_type": "code",
   "execution_count": 7,
   "metadata": {
    "ExecuteTime": {
     "end_time": "2020-06-04T04:55:44.874974Z",
     "start_time": "2020-06-04T04:55:36.870700Z"
    },
    "hidden": true
   },
   "outputs": [],
   "source": [
    "import lumapi\n",
    "mode = lumapi.MODE('C:/Users/dheydari/Documents/OneDrive - Stanford/research/modules/pylum/template/waveguide_get_modes.lms', hide=True)"
   ]
  },
  {
   "cell_type": "code",
   "execution_count": 8,
   "metadata": {
    "ExecuteTime": {
     "end_time": "2020-06-04T04:55:56.942295Z",
     "start_time": "2020-06-04T04:55:44.876938Z"
    },
    "hidden": true
   },
   "outputs": [
    {
     "data": {
      "text/plain": [
       "1.0"
      ]
     },
     "execution_count": 8,
     "metadata": {},
     "output_type": "execute_result"
    }
   ],
   "source": [
    "mode.switchtolayout()\n",
    "mode.set(\"wavelength\", 1.2e-6)\n",
    "mode.run()\n",
    "mode.findmodes()"
   ]
  },
  {
   "cell_type": "code",
   "execution_count": 9,
   "metadata": {
    "ExecuteTime": {
     "end_time": "2020-06-04T04:57:51.531404Z",
     "start_time": "2020-06-04T04:55:56.945288Z"
    },
    "hidden": true
   },
   "outputs": [],
   "source": [
    "mode.setanalysis(\"track selected mode\", True)\n",
    "mode.setanalysis(\"stop wavelength\", 1.3e-6)\n",
    "mode.setanalysis(\"number of points\", 3)\n",
    "mode.setanalysis(\"number of test modes\", 3)  # recommended by Lumerical\n",
    "mode.setanalysis(\"detailed dispersion calculation\", 1)\n",
    "mode.setanalysis(\"store mode profiles while tracking\", 1)\n",
    "mode.frequencysweep()"
   ]
  },
  {
   "cell_type": "code",
   "execution_count": 10,
   "metadata": {
    "ExecuteTime": {
     "end_time": "2020-06-04T04:57:56.671805Z",
     "start_time": "2020-06-04T04:57:56.660828Z"
    },
    "hidden": true
   },
   "outputs": [
    {
     "data": {
      "text/plain": [
       "['FDE::data::mode1']"
      ]
     },
     "execution_count": 10,
     "metadata": {},
     "output_type": "execute_result"
    }
   ],
   "source": [
    "[str for str in mode.getresult().split('\\n') if 'mode' in str]"
   ]
  },
  {
   "cell_type": "code",
   "execution_count": 20,
   "metadata": {
    "ExecuteTime": {
     "end_time": "2020-06-04T05:03:57.409342Z",
     "start_time": "2020-06-04T05:03:57.405351Z"
    },
    "hidden": true
   },
   "outputs": [],
   "source": [
    "import numpy as np"
   ]
  },
  {
   "cell_type": "code",
   "execution_count": 25,
   "metadata": {
    "ExecuteTime": {
     "end_time": "2020-06-04T05:04:43.359533Z",
     "start_time": "2020-06-04T05:04:43.339588Z"
    },
    "hidden": true
   },
   "outputs": [
    {
     "ename": "LumApiError",
     "evalue": "\"argument list for getdata command is incorrect - getdata arguments were converted to ('int, 'str)\"",
     "output_type": "error",
     "traceback": [
      "\u001b[1;31m---------------------------------------------------------------------------\u001b[0m",
      "\u001b[1;31mLumApiError\u001b[0m                               Traceback (most recent call last)",
      "\u001b[1;32m<ipython-input-25-2ea751005215>\u001b[0m in \u001b[0;36m<module>\u001b[1;34m\u001b[0m\n\u001b[1;32m----> 1\u001b[1;33m \u001b[0mmode\u001b[0m\u001b[1;33m.\u001b[0m\u001b[0mgetdata\u001b[0m\u001b[1;33m(\u001b[0m\u001b[1;36m1\u001b[0m\u001b[1;33m,\u001b[0m \u001b[1;34m'Ex'\u001b[0m\u001b[1;33m)\u001b[0m\u001b[1;33m\u001b[0m\u001b[1;33m\u001b[0m\u001b[0m\n\u001b[0m",
      "\u001b[1;32mc:\\Program Files\\Lumerical\\2020a\\api\\python\\lumapi.py\u001b[0m in \u001b[0;36m<lambda>\u001b[1;34m(self, *args)\u001b[0m\n\u001b[0;32m   1136\u001b[0m                 appCallWithConstructor(self, x, args, **kwargs))(name)\n\u001b[0;32m   1137\u001b[0m             \u001b[1;32melse\u001b[0m\u001b[1;33m:\u001b[0m\u001b[1;33m\u001b[0m\u001b[1;33m\u001b[0m\u001b[0m\n\u001b[1;32m-> 1138\u001b[1;33m                 \u001b[0mmethod\u001b[0m \u001b[1;33m=\u001b[0m \u001b[1;33m(\u001b[0m\u001b[1;32mlambda\u001b[0m \u001b[0mx\u001b[0m\u001b[1;33m:\u001b[0m \u001b[1;32mlambda\u001b[0m \u001b[0mself\u001b[0m\u001b[1;33m,\u001b[0m \u001b[1;33m*\u001b[0m\u001b[0margs\u001b[0m\u001b[1;33m:\u001b[0m \u001b[0mappCall\u001b[0m\u001b[1;33m(\u001b[0m\u001b[0mself\u001b[0m\u001b[1;33m,\u001b[0m \u001b[0mx\u001b[0m\u001b[1;33m,\u001b[0m \u001b[0margs\u001b[0m\u001b[1;33m)\u001b[0m\u001b[1;33m)\u001b[0m\u001b[1;33m(\u001b[0m\u001b[0mname\u001b[0m\u001b[1;33m)\u001b[0m\u001b[1;33m\u001b[0m\u001b[1;33m\u001b[0m\u001b[0m\n\u001b[0m\u001b[0;32m   1139\u001b[0m             \u001b[0mmethod\u001b[0m\u001b[1;33m.\u001b[0m\u001b[0m__name__\u001b[0m \u001b[1;33m=\u001b[0m \u001b[0mstr\u001b[0m\u001b[1;33m(\u001b[0m\u001b[0mname\u001b[0m\u001b[1;33m)\u001b[0m\u001b[1;33m\u001b[0m\u001b[1;33m\u001b[0m\u001b[0m\n\u001b[0;32m   1140\u001b[0m             \u001b[1;32mtry\u001b[0m\u001b[1;33m:\u001b[0m\u001b[1;33m\u001b[0m\u001b[1;33m\u001b[0m\u001b[0m\n",
      "\u001b[1;32mc:\\Program Files\\Lumerical\\2020a\\api\\python\\lumapi.py\u001b[0m in \u001b[0;36mappCall\u001b[1;34m(self, name, *args)\u001b[0m\n\u001b[0;32m    799\u001b[0m             \u001b[0margLumTypes\u001b[0m \u001b[1;33m=\u001b[0m \u001b[0mlumTypes\u001b[0m\u001b[1;33m(\u001b[0m\u001b[0mlist\u001b[0m\u001b[1;33m(\u001b[0m\u001b[0margs\u001b[0m\u001b[1;33m[\u001b[0m\u001b[1;36m0\u001b[0m\u001b[1;33m]\u001b[0m\u001b[1;33m)\u001b[0m\u001b[1;33m)\u001b[0m\u001b[1;33m\u001b[0m\u001b[1;33m\u001b[0m\u001b[0m\n\u001b[0;32m    800\u001b[0m             \u001b[0mmessage\u001b[0m \u001b[1;33m+=\u001b[0m \u001b[1;33m(\u001b[0m\u001b[1;34m\" - \"\u001b[0m \u001b[1;33m+\u001b[0m \u001b[0mname\u001b[0m \u001b[1;33m+\u001b[0m \u001b[1;34m\" arguments were converted to (\"\u001b[0m \u001b[1;33m+\u001b[0m \u001b[1;34m\", \"\u001b[0m\u001b[1;33m.\u001b[0m\u001b[0mjoin\u001b[0m\u001b[1;33m(\u001b[0m\u001b[0margLumTypes\u001b[0m\u001b[1;33m)\u001b[0m \u001b[1;33m+\u001b[0m \u001b[1;34m\")\"\u001b[0m\u001b[1;33m)\u001b[0m\u001b[1;33m\u001b[0m\u001b[1;33m\u001b[0m\u001b[0m\n\u001b[1;32m--> 801\u001b[1;33m         \u001b[1;32mraise\u001b[0m \u001b[0mLumApiError\u001b[0m\u001b[1;33m(\u001b[0m\u001b[0mmessage\u001b[0m\u001b[1;33m)\u001b[0m\u001b[1;33m\u001b[0m\u001b[1;33m\u001b[0m\u001b[0m\n\u001b[0m\u001b[0;32m    802\u001b[0m     \u001b[1;32mif\u001b[0m \u001b[0misinstance\u001b[0m\u001b[1;33m(\u001b[0m\u001b[0mrvals\u001b[0m\u001b[1;33m[\u001b[0m\u001b[1;36m0\u001b[0m\u001b[1;33m]\u001b[0m\u001b[1;33m,\u001b[0m \u001b[0mstr\u001b[0m\u001b[1;33m)\u001b[0m \u001b[1;32mand\u001b[0m \u001b[1;33m(\u001b[0m\u001b[0mrvals\u001b[0m\u001b[1;33m[\u001b[0m\u001b[1;36m0\u001b[0m\u001b[1;33m]\u001b[0m \u001b[1;33m==\u001b[0m \u001b[1;34m\"d6d8d1b2c083c251\"\u001b[0m\u001b[1;33m)\u001b[0m\u001b[1;33m:\u001b[0m\u001b[1;33m\u001b[0m\u001b[1;33m\u001b[0m\u001b[0m\n\u001b[0;32m    803\u001b[0m         \u001b[0mrvals\u001b[0m\u001b[1;33m[\u001b[0m\u001b[1;36m0\u001b[0m\u001b[1;33m]\u001b[0m \u001b[1;33m=\u001b[0m \u001b[1;32mNone\u001b[0m\u001b[1;33m\u001b[0m\u001b[1;33m\u001b[0m\u001b[0m\n",
      "\u001b[1;31mLumApiError\u001b[0m: \"argument list for getdata command is incorrect - getdata arguments were converted to ('int, 'str)\""
     ]
    }
   ],
   "source": [
    "mode.getdata('mode1', 'Ex')"
   ]
  },
  {
   "cell_type": "code",
   "execution_count": 83,
   "metadata": {
    "ExecuteTime": {
     "end_time": "2020-06-03T07:20:14.079461Z",
     "start_time": "2020-06-03T07:20:09.520161Z"
    },
    "hidden": true
   },
   "outputs": [],
   "source": [
    "N_sweep= 3\n",
    "E_fields = [[mode.getdata(\"FDE::data::frequencysweep\", s)[:,:,0,ind,0] for s in (\"Ex\",\"Ey\",\"Ez\")]\n",
    "            for ind in range(N_sweep)]"
   ]
  },
  {
   "cell_type": "code",
   "execution_count": 85,
   "metadata": {
    "ExecuteTime": {
     "end_time": "2020-06-03T07:20:32.084757Z",
     "start_time": "2020-06-03T07:20:31.396016Z"
    },
    "hidden": true
   },
   "outputs": [
    {
     "data": {
      "text/plain": [
       "<matplotlib.collections.QuadMesh at 0x21e2d4da6a0>"
      ]
     },
     "execution_count": 85,
     "metadata": {},
     "output_type": "execute_result"
    },
    {
     "data": {
      "image/png": "[encoded data removed]",
      "text/plain": [
       "<Figure size 432x288 with 1 Axes>"
      ]
     },
     "metadata": {
      "needs_background": "light"
     },
     "output_type": "display_data"
    }
   ],
   "source": [
    "plt.pcolormesh(np.real(E_fields[1][0].T))"
   ]
  },
  {
   "cell_type": "code",
   "execution_count": 72,
   "metadata": {
    "ExecuteTime": {
     "end_time": "2020-06-03T07:15:08.715516Z",
     "start_time": "2020-06-03T07:15:08.659664Z"
    },
    "hidden": true
   },
   "outputs": [
    {
     "data": {
      "text/plain": [
       "(3, 683, 428, 1, 3, 1)"
      ]
     },
     "execution_count": 72,
     "metadata": {},
     "output_type": "execute_result"
    }
   ],
   "source": [
    "np.shape(Ex)"
   ]
  },
  {
   "cell_type": "code",
   "execution_count": null,
   "metadata": {
    "hidden": true
   },
   "outputs": [],
   "source": [
    "[]"
   ]
  },
  {
   "cell_type": "code",
   "execution_count": 69,
   "metadata": {
    "ExecuteTime": {
     "end_time": "2020-06-03T07:14:14.576091Z",
     "start_time": "2020-06-03T07:14:13.895525Z"
    },
    "hidden": true
   },
   "outputs": [
    {
     "data": {
      "text/plain": [
       "<matplotlib.collections.QuadMesh at 0x21e2ce83518>"
      ]
     },
     "execution_count": 69,
     "metadata": {},
     "output_type": "execute_result"
    },
    {
     "data": {
      "image/png": "[encoded data removed]",
      "text/plain": [
       "<Figure size 432x288 with 1 Axes>"
      ]
     },
     "metadata": {
      "needs_background": "light"
     },
     "output_type": "display_data"
    }
   ],
   "source": [
    "plt.pcolormesh(np.real(Ex[:,:,0,0,0]).T)"
   ]
  },
  {
   "cell_type": "code",
   "execution_count": 64,
   "metadata": {
    "ExecuteTime": {
     "end_time": "2020-06-03T07:12:48.447158Z",
     "start_time": "2020-06-03T07:12:48.443154Z"
    },
    "hidden": true
   },
   "outputs": [],
   "source": [
    "import matplotlib.pyplot as plt"
   ]
  },
  {
   "cell_type": "markdown",
   "metadata": {
    "heading_collapsed": true
   },
   "source": [
    "## 6/3/20 edits by edwin -> git"
   ]
  },
  {
   "cell_type": "code",
   "execution_count": 1,
   "metadata": {
    "ExecuteTime": {
     "end_time": "2020-06-04T03:07:37.671883Z",
     "start_time": "2020-06-04T03:07:37.079467Z"
    },
    "hidden": true
   },
   "outputs": [
    {
     "name": "stdout",
     "output_type": "stream",
     "text": [
      "C:\\Users\\dheydari\\Documents\\OneDrive - Stanford\\research\\modules\\pylum\n"
     ]
    }
   ],
   "source": [
    "import pylum\n",
    "import pylum.fdemode as fdemode"
   ]
  },
  {
   "cell_type": "code",
   "execution_count": 2,
   "metadata": {
    "ExecuteTime": {
     "end_time": "2020-06-04T03:07:37.681855Z",
     "start_time": "2020-06-04T03:07:37.674874Z"
    },
    "hidden": true
   },
   "outputs": [],
   "source": [
    "import pylum.structure.waveguide as wg\n",
    "w, h, e = 3e-6, 3e-6, 1.2e-6\n",
    "wg = wg.Waveguide(w,h,e)\n",
    "λ0_p = 1.2e-6\n",
    "Δλ = 0.1e-6\n",
    "N_sweep = 3"
   ]
  },
  {
   "cell_type": "code",
   "execution_count": 3,
   "metadata": {
    "ExecuteTime": {
     "end_time": "2020-06-04T03:07:47.434810Z",
     "start_time": "2020-06-04T03:07:40.029598Z"
    },
    "hidden": true
   },
   "outputs": [],
   "source": [
    "optical_mode = fdemode.ModeSimulator(wg)"
   ]
  },
  {
   "cell_type": "code",
   "execution_count": 4,
   "metadata": {
    "ExecuteTime": {
     "end_time": "2020-06-04T03:08:03.775078Z",
     "start_time": "2020-06-04T03:07:47.436792Z"
    },
    "hidden": true
   },
   "outputs": [
    {
     "data": {
      "text/plain": [
       "<pylum.fdemode.SimulationData at 0x1f60d72fcf8>"
      ]
     },
     "execution_count": 4,
     "metadata": {},
     "output_type": "execute_result"
    }
   ],
   "source": [
    "optical_mode.solve_mode(λ0_p)"
   ]
  },
  {
   "cell_type": "code",
   "execution_count": 4,
   "metadata": {
    "ExecuteTime": {
     "end_time": "2020-06-04T02:40:48.580086Z",
     "start_time": "2020-06-04T02:38:52.653178Z"
    },
    "hidden": true
   },
   "outputs": [],
   "source": [
    "sweep = optical_mode.run_sweep(λ0_p,Δλ,N_sweep)"
   ]
  },
  {
   "cell_type": "code",
   "execution_count": 5,
   "metadata": {
    "ExecuteTime": {
     "end_time": "2020-06-04T03:08:19.685495Z",
     "start_time": "2020-06-04T03:08:03.778057Z"
    },
    "hidden": true
   },
   "outputs": [],
   "source": [
    "sim = optical_mode.solve_mode(λ0_p)"
   ]
  },
  {
   "cell_type": "code",
   "execution_count": 5,
   "metadata": {
    "ExecuteTime": {
     "end_time": "2020-06-04T02:40:48.591010Z",
     "start_time": "2020-06-04T02:40:48.582002Z"
    },
    "hidden": true
   },
   "outputs": [
    {
     "data": {
      "text/plain": [
       "(3, 1)"
      ]
     },
     "execution_count": 5,
     "metadata": {},
     "output_type": "execute_result"
    }
   ],
   "source": [
    "import numpy as np\n",
    "np.shape(sweep.wavelength)"
   ]
  },
  {
   "cell_type": "code",
   "execution_count": 6,
   "metadata": {
    "ExecuteTime": {
     "end_time": "2020-06-04T02:40:48.835328Z",
     "start_time": "2020-06-04T02:40:48.593976Z"
    },
    "hidden": true
   },
   "outputs": [
    {
     "data": {
      "text/plain": [
       "array([[1.45022460e-14],\n",
       "       [1.45013719e-14],\n",
       "       [1.45021984e-14]])"
      ]
     },
     "execution_count": 6,
     "metadata": {},
     "output_type": "execute_result"
    }
   ],
   "source": [
    "sweep.compute_Aeff()"
   ]
  },
  {
   "cell_type": "code",
   "execution_count": 11,
   "metadata": {
    "ExecuteTime": {
     "end_time": "2020-06-04T02:47:10.743842Z",
     "start_time": "2020-06-04T02:47:10.721864Z"
    },
    "hidden": true
   },
   "outputs": [
    {
     "data": {
      "text/plain": [
       "(3, 683, 421)"
      ]
     },
     "execution_count": 11,
     "metadata": {},
     "output_type": "execute_result"
    }
   ],
   "source": [
    "np.shape(sim.E_field)"
   ]
  },
  {
   "cell_type": "code",
   "execution_count": 14,
   "metadata": {
    "ExecuteTime": {
     "end_time": "2020-06-04T02:50:13.351962Z",
     "start_time": "2020-06-04T02:50:13.347939Z"
    },
    "hidden": true
   },
   "outputs": [
    {
     "data": {
      "text/plain": [
       "<pylum.fdemode.SimulationData at 0x26d347f1eb8>"
      ]
     },
     "execution_count": 14,
     "metadata": {},
     "output_type": "execute_result"
    }
   ],
   "source": [
    "sim"
   ]
  },
  {
   "cell_type": "code",
   "execution_count": 6,
   "metadata": {
    "ExecuteTime": {
     "end_time": "2020-06-04T03:08:19.730401Z",
     "start_time": "2020-06-04T03:08:19.687491Z"
    },
    "hidden": true
   },
   "outputs": [
    {
     "data": {
      "text/plain": [
       "array([[1.4502246e-14]])"
      ]
     },
     "execution_count": 6,
     "metadata": {},
     "output_type": "execute_result"
    }
   ],
   "source": [
    "sim.compute_Aeff()"
   ]
  },
  {
   "cell_type": "markdown",
   "metadata": {
    "heading_collapsed": true
   },
   "source": [
    "## 6/4/20 edits, `degenerate_chi2.py`, `plot_tools.py`"
   ]
  },
  {
   "cell_type": "code",
   "execution_count": 1,
   "metadata": {
    "ExecuteTime": {
     "end_time": "2020-06-08T06:55:47.186358Z",
     "start_time": "2020-06-08T06:55:46.779036Z"
    },
    "hidden": true
   },
   "outputs": [],
   "source": [
    "import matplotlib.pyplot as plt"
   ]
  },
  {
   "cell_type": "code",
   "execution_count": 2,
   "metadata": {
    "ExecuteTime": {
     "end_time": "2020-06-08T06:55:48.377052Z",
     "start_time": "2020-06-08T06:55:47.227732Z"
    },
    "hidden": true
   },
   "outputs": [
    {
     "name": "stdout",
     "output_type": "stream",
     "text": [
      "C:\\Users\\dheydari\\Documents\\OneDrive - Stanford\\research\\modules\\pylum\n"
     ]
    }
   ],
   "source": [
    "from pylum import *\n",
    "from nlowg import *\n",
    "from nlowg import sentarus_dc"
   ]
  },
  {
   "cell_type": "code",
   "execution_count": 3,
   "metadata": {
    "ExecuteTime": {
     "end_time": "2020-06-08T06:55:48.388950Z",
     "start_time": "2020-06-08T06:55:48.380019Z"
    },
    "hidden": true
   },
   "outputs": [
    {
     "name": "stdout",
     "output_type": "stream",
     "text": [
      "C:\\Users\\dheydari\\Documents\\OneDrive - Stanford\\research\\modules\\pylum\\structure\n"
     ]
    }
   ],
   "source": [
    "import pylum\n",
    "import pylum.structure.waveguide as wg\n",
    "import pylum.fdemode as fde\n",
    "import pylum.structure.ridge_wg as ridge"
   ]
  },
  {
   "cell_type": "code",
   "execution_count": 8,
   "metadata": {
    "ExecuteTime": {
     "end_time": "2020-06-08T06:56:26.538593Z",
     "start_time": "2020-06-08T06:56:26.530586Z"
    },
    "hidden": true
   },
   "outputs": [
    {
     "data": {
      "text/plain": [
       "'C:\\\\Users\\\\dheydari\\\\Documents\\\\OneDrive - Stanford\\\\research\\\\projects\\\\vtt_2020\\\\dc_fields\\\\sentaurus_data\\\\2d'"
      ]
     },
     "execution_count": 8,
     "metadata": {},
     "output_type": "execute_result"
    }
   ],
   "source": [
    "proj_dir = path.normpath(\"C:/Users/dheydari/Documents/OneDrive - Stanford/research/projects\")\n",
    "if path.isdir(proj_dir): data_dir = path.normpath(path.join(proj_dir,'vtt_2020/dc_fields/sentaurus_data/2d'))\n",
    "data_dir"
   ]
  },
  {
   "cell_type": "code",
   "execution_count": 5,
   "metadata": {
    "ExecuteTime": {
     "end_time": "2020-06-06T06:09:40.129138Z",
     "start_time": "2020-06-06T06:09:27.013915Z"
    },
    "hidden": true
   },
   "outputs": [
    {
     "name": "stdout",
     "output_type": "stream",
     "text": [
      "Nan: C:\\Users\\dheydari\\Documents\\OneDrive - Stanford\\research\\projects\\vtt_2020\\dc_fields\\sentaurus_data\\mircea_fields_sentarus_20v_v2\\My_New_Field_4787.csv\n",
      "Exception: C:\\Users\\dheydari\\Documents\\OneDrive - Stanford\\research\\projects\\vtt_2020\\dc_fields\\sentaurus_data\\mircea_fields_sentarus_20v_v2\\My_New_Field_4834.csv\n",
      "Exception: C:\\Users\\dheydari\\Documents\\OneDrive - Stanford\\research\\projects\\vtt_2020\\dc_fields\\sentaurus_data\\mircea_fields_sentarus_20v_v2\\My_New_Field_4889.csv\n",
      "Nan: C:\\Users\\dheydari\\Documents\\OneDrive - Stanford\\research\\projects\\vtt_2020\\dc_fields\\sentaurus_data\\mircea_fields_sentarus_20v_v2\\My_New_Field_5170.csv\n",
      "Nan: C:\\Users\\dheydari\\Documents\\OneDrive - Stanford\\research\\projects\\vtt_2020\\dc_fields\\sentaurus_data\\mircea_fields_sentarus_20v_v2\\My_New_Field_5172.csv\n",
      "Exception: C:\\Users\\dheydari\\Documents\\OneDrive - Stanford\\research\\projects\\vtt_2020\\dc_fields\\sentaurus_data\\mircea_fields_sentarus_20v_v2\\My_New_Field_5309.csv\n",
      "Nan: C:\\Users\\dheydari\\Documents\\OneDrive - Stanford\\research\\projects\\vtt_2020\\dc_fields\\sentaurus_data\\mircea_fields_sentarus_20v_v2\\My_New_Field_5348.csv\n"
     ]
    }
   ],
   "source": [
    "# DO NOT RUN\n",
    "for ind,csv_i in enumerate(sentarus_dc.get_latest_csv_files(data_dir)):\n",
    "    try:\n",
    "        dcdata = sentarus_dc.parse_diode_fields(csv_i)\n",
    "        if np.isnan(dcdata.Ex_dc.sum()) or np.isnan(dcdata.Ey_dc.sum()):\n",
    "            print(\"Nan: \"+csv_i)\n",
    "    except:\n",
    "        print(\"Exception: \"+csv_i)"
   ]
  },
  {
   "cell_type": "code",
   "execution_count": 9,
   "metadata": {
    "ExecuteTime": {
     "end_time": "2020-06-08T06:56:28.494692Z",
     "start_time": "2020-06-08T06:56:28.480729Z"
    },
    "hidden": true
   },
   "outputs": [
    {
     "data": {
      "text/plain": [
       "'C:\\\\Users\\\\dheydari\\\\Documents\\\\OneDrive - Stanford\\\\research\\\\projects\\\\vtt_2020\\\\dc_fields\\\\sentaurus_data\\\\2d\\\\mircea_fields_sentarus_20v_v2\\\\My_New_Field_4849.csv'"
      ]
     },
     "execution_count": 9,
     "metadata": {},
     "output_type": "execute_result"
    }
   ],
   "source": [
    "csv_i = sentarus_dc.get_latest_csv_files(data_dir)[62]\n",
    "csv_i"
   ]
  },
  {
   "cell_type": "code",
   "execution_count": 10,
   "metadata": {
    "ExecuteTime": {
     "end_time": "2020-06-08T06:56:31.532932Z",
     "start_time": "2020-06-08T06:56:31.482039Z"
    },
    "hidden": true
   },
   "outputs": [],
   "source": [
    "dcdata = sentarus_dc.parse_diode_fields(csv_i)"
   ]
  },
  {
   "cell_type": "code",
   "execution_count": 11,
   "metadata": {
    "ExecuteTime": {
     "end_time": "2020-06-08T06:56:32.906379Z",
     "start_time": "2020-06-08T06:56:32.900407Z"
    },
    "hidden": true
   },
   "outputs": [],
   "source": [
    "dcdata.Ex_dc[np.isnan(dcdata.Ex_dc)] = 0.0\n",
    "dcdata.Ey_dc[np.isnan(dcdata.Ey_dc)] = 0.0"
   ]
  },
  {
   "cell_type": "code",
   "execution_count": 12,
   "metadata": {
    "ExecuteTime": {
     "end_time": "2020-06-08T06:56:34.701067Z",
     "start_time": "2020-06-08T06:56:33.777148Z"
    },
    "hidden": true
   },
   "outputs": [
    {
     "data": {
      "text/plain": [
       "Text(0.5, 0.98, 'My_New_Field_4849.csv: width = 2.02 μm, etch = 1.2 μm, slab dist = 2.0 μm')"
      ]
     },
     "execution_count": 12,
     "metadata": {},
     "output_type": "execute_result"
    },
    {
     "data": {
      "image/png": "[encoded data removed]",
      "text/plain": [
       "<Figure size 1008x216 with 4 Axes>"
      ]
     },
     "metadata": {
      "needs_background": "light"
     },
     "output_type": "display_data"
    }
   ],
   "source": [
    "x1 = dcdata.xaxis[0,0]\n",
    "x2 = dcdata.xaxis[0,-1]\n",
    "y1 = dcdata.yaxis[0,0]\n",
    "y2 = dcdata.yaxis[-1,0]\n",
    "wgx = dcdata.wg.width*1e6/2\n",
    "wgy1 = y2-dcdata.wg.etch*1e6\n",
    "\n",
    "fig, axs = plt.subplots(1, 2, figsize=(14,3))\n",
    "rang = max(np.max(np.abs(dcdata.Ex_dc/1e4)),np.max(np.abs(dcdata.Ey_dc/1e4)))\n",
    "im = axs[0].imshow(dcdata.Ex_dc/1e4, extent=[x1,x2,y1,y2], vmin=-rang, vmax=rang, origin=\"lower\", cmap=\"RdBu\")\n",
    "cb = plt.colorbar(im, ax=axs[0])\n",
    "cb.set_label(label=r\"$E_x$ Field (V/μm)\", fontsize=12)\n",
    "cb.ax.tick_params(labelsize=11)\n",
    "im = axs[1].imshow(dcdata.Ey_dc/1e4, extent=[x1,x2,y1,y2], vmin=-rang, vmax=rang, origin=\"lower\", cmap=\"RdBu\")\n",
    "cb = plt.colorbar(im, ax=axs[1])\n",
    "cb.set_label(label=r\"$E_y$ Field(V/μm)\", fontsize=12)\n",
    "cb.ax.tick_params(labelsize=11)\n",
    "\n",
    "axs[0].tick_params(labelsize=11)\n",
    "axs[1].tick_params(labelsize=11)\n",
    "axs[0].set_xlabel(r\"$x$ (μm)\", fontsize=12)\n",
    "axs[0].set_ylabel(r\"$y$ (μm)\", fontsize=12)\n",
    "axs[1].set_xlabel(r\"$x$ (μm)\", fontsize=12)\n",
    "axs[1].set_ylabel(r\"$y$ (μm)\", fontsize=12)\n",
    "\n",
    "axs[0].plot([x1,-wgx,-wgx,wgx,wgx,x2], [wgy1,wgy1,y2,y2,wgy1,wgy1], \"k\")\n",
    "axs[1].plot([x1,-wgx,-wgx,wgx,wgx,x2], [wgy1,wgy1,y2,y2,wgy1,wgy1], \"k\")\n",
    "\n",
    "axs[0].set_ylim(-0.1,y2+0.1)\n",
    "axs[1].set_ylim(-0.1,y2+0.1)\n",
    "axs[0].set_xlim(x1-0.1, x2+0.1)\n",
    "axs[1].set_xlim(x1-0.1, x2+0.1)\n",
    "\n",
    "fig.suptitle(csv_i.split(\"\\\\\")[-1]+\": width = %s μm, etch = %s μm, slab dist = %s μm\"%(round(dcdata.wg.width*1e6,3), round(dcdata.wg.etch*1e6,3), \n",
    "            round(dcdata.slab_d,3)),fontsize=16)"
   ]
  },
  {
   "cell_type": "code",
   "execution_count": 13,
   "metadata": {
    "ExecuteTime": {
     "end_time": "2020-06-08T06:56:36.818039Z",
     "start_time": "2020-06-08T06:56:36.811087Z"
    },
    "hidden": true
   },
   "outputs": [
    {
     "data": {
      "text/plain": [
       "78428.2703923"
      ]
     },
     "execution_count": 13,
     "metadata": {},
     "output_type": "execute_result"
    }
   ],
   "source": [
    "np.max(dcdata.Ex_dc)"
   ]
  },
  {
   "cell_type": "code",
   "execution_count": 14,
   "metadata": {
    "ExecuteTime": {
     "end_time": "2020-06-08T06:56:48.995674Z",
     "start_time": "2020-06-08T06:56:41.706676Z"
    },
    "hidden": true
   },
   "outputs": [],
   "source": [
    "wg = dcdata.wg\n",
    "environ = ridge.RidgeWaveguideEnvironment(wg, True)"
   ]
  },
  {
   "cell_type": "code",
   "execution_count": 15,
   "metadata": {
    "ExecuteTime": {
     "end_time": "2020-06-08T06:56:49.008644Z",
     "start_time": "2020-06-08T06:56:48.997674Z"
    },
    "hidden": true
   },
   "outputs": [],
   "source": [
    "fde = fde.FDEModeSimulator(environ)"
   ]
  },
  {
   "cell_type": "code",
   "execution_count": 16,
   "metadata": {
    "ExecuteTime": {
     "end_time": "2020-06-08T06:56:49.257176Z",
     "start_time": "2020-06-08T06:56:49.011643Z"
    },
    "hidden": true
   },
   "outputs": [],
   "source": [
    "fde.setup_sim(2.4e-6)"
   ]
  },
  {
   "cell_type": "code",
   "execution_count": 17,
   "metadata": {
    "ExecuteTime": {
     "end_time": "2020-06-08T06:56:49.749885Z",
     "start_time": "2020-06-08T06:56:49.259170Z"
    },
    "hidden": true
   },
   "outputs": [],
   "source": [
    "solved_data = fde.solve_mode(2.4e-6)"
   ]
  },
  {
   "cell_type": "code",
   "execution_count": 18,
   "metadata": {
    "ExecuteTime": {
     "end_time": "2020-06-08T06:56:50.368519Z",
     "start_time": "2020-06-08T06:56:50.363529Z"
    },
    "hidden": true
   },
   "outputs": [
    {
     "data": {
      "text/plain": [
       "(73,)"
      ]
     },
     "execution_count": 18,
     "metadata": {},
     "output_type": "execute_result"
    }
   ],
   "source": [
    "np.shape(solved_data.xaxis)"
   ]
  },
  {
   "cell_type": "code",
   "execution_count": 19,
   "metadata": {
    "ExecuteTime": {
     "end_time": "2020-06-08T06:56:51.304150Z",
     "start_time": "2020-06-08T06:56:51.298190Z"
    },
    "hidden": true
   },
   "outputs": [
    {
     "data": {
      "text/plain": [
       "(51, 73)"
      ]
     },
     "execution_count": 19,
     "metadata": {},
     "output_type": "execute_result"
    }
   ],
   "source": [
    "np.shape(np.real(solved_data.E_field[0].T))"
   ]
  },
  {
   "cell_type": "code",
   "execution_count": 20,
   "metadata": {
    "ExecuteTime": {
     "end_time": "2020-06-08T06:57:16.593490Z",
     "start_time": "2020-06-08T06:57:16.587500Z"
    },
    "hidden": true
   },
   "outputs": [
    {
     "data": {
      "text/plain": [
       "<nlowg.sentarus_dc.SentarusDCData at 0x218df7984a8>"
      ]
     },
     "execution_count": 20,
     "metadata": {},
     "output_type": "execute_result"
    }
   ],
   "source": [
    "dcdata"
   ]
  },
  {
   "cell_type": "code",
   "execution_count": 21,
   "metadata": {
    "ExecuteTime": {
     "end_time": "2020-06-08T06:57:36.930459Z",
     "start_time": "2020-06-08T06:57:36.921483Z"
    },
    "hidden": true
   },
   "outputs": [
    {
     "ename": "SyntaxError",
     "evalue": "invalid syntax (degenerate_chi2.py, line 98)",
     "output_type": "error",
     "traceback": [
      "Traceback \u001b[1;36m(most recent call last)\u001b[0m:\n",
      "  File \u001b[0;32m\"C:\\Users\\dheydari\\Anaconda3\\lib\\site-packages\\IPython\\core\\interactiveshell.py\"\u001b[0m, line \u001b[0;32m3296\u001b[0m, in \u001b[0;35mrun_code\u001b[0m\n    exec(code_obj, self.user_global_ns, self.user_ns)\n",
      "\u001b[1;36m  File \u001b[1;32m\"<ipython-input-21-b601478b6e6b>\"\u001b[1;36m, line \u001b[1;32m1\u001b[1;36m, in \u001b[1;35m<module>\u001b[1;36m\u001b[0m\n\u001b[1;33m    import nlowg.degenerate_chi2 as efison\u001b[0m\n",
      "\u001b[1;36m  File \u001b[1;32m\"C:\\Users\\dheydari\\Documents\\OneDrive - Stanford\\research\\modules\\nlowg\\degenerate_chi2.py\"\u001b[1;36m, line \u001b[1;32m98\u001b[0m\n\u001b[1;33m    dA =\u001b[0m\n\u001b[1;37m         ^\u001b[0m\n\u001b[1;31mSyntaxError\u001b[0m\u001b[1;31m:\u001b[0m invalid syntax\n"
     ]
    }
   ],
   "source": [
    "import nlowg.degenerate_chi2 as efison"
   ]
  },
  {
   "cell_type": "code",
   "execution_count": 22,
   "metadata": {
    "ExecuteTime": {
     "end_time": "2020-06-08T06:57:37.341496Z",
     "start_time": "2020-06-08T06:57:37.337532Z"
    },
    "hidden": true
   },
   "outputs": [],
   "source": [
    "import pylum.fdemode as fdemode"
   ]
  },
  {
   "cell_type": "code",
   "execution_count": null,
   "metadata": {
    "hidden": true
   },
   "outputs": [],
   "source": [
    "fdemodeobject = fdemode.FDEModeSimulator"
   ]
  },
  {
   "cell_type": "code",
   "execution_count": 18,
   "metadata": {
    "ExecuteTime": {
     "end_time": "2020-06-06T06:10:02.881605Z",
     "start_time": "2020-06-06T06:10:02.877617Z"
    },
    "hidden": true
   },
   "outputs": [],
   "source": [
    "efison_object = efison.EFISONSimulation(wg, solved_data, dcdata)"
   ]
  },
  {
   "cell_type": "code",
   "execution_count": 32,
   "metadata": {
    "ExecuteTime": {
     "end_time": "2020-06-06T06:22:17.087054Z",
     "start_time": "2020-06-06T06:22:17.082067Z"
    },
    "hidden": true
   },
   "outputs": [
    {
     "data": {
      "text/plain": [
       "(51, 73)"
      ]
     },
     "execution_count": 32,
     "metadata": {},
     "output_type": "execute_result"
    }
   ],
   "source": [
    "np.shape(dc_inter[0])"
   ]
  },
  {
   "cell_type": "code",
   "execution_count": 33,
   "metadata": {
    "ExecuteTime": {
     "end_time": "2020-06-06T06:22:17.564809Z",
     "start_time": "2020-06-06T06:22:17.557833Z"
    },
    "hidden": true
   },
   "outputs": [
    {
     "data": {
      "text/plain": [
       "(73, 51)"
      ]
     },
     "execution_count": 33,
     "metadata": {},
     "output_type": "execute_result"
    }
   ],
   "source": [
    "np.shape(solved_data.E_field[0])"
   ]
  },
  {
   "cell_type": "code",
   "execution_count": 84,
   "metadata": {
    "ExecuteTime": {
     "end_time": "2020-06-06T06:58:50.906557Z",
     "start_time": "2020-06-06T06:58:50.900567Z"
    },
    "hidden": true
   },
   "outputs": [
    {
     "data": {
      "text/plain": [
       "-2.9025"
      ]
     },
     "execution_count": 84,
     "metadata": {},
     "output_type": "execute_result"
    }
   ],
   "source": [
    "dcdata.xaxis[0,0]"
   ]
  },
  {
   "cell_type": "code",
   "execution_count": 86,
   "metadata": {
    "ExecuteTime": {
     "end_time": "2020-06-06T06:59:12.278513Z",
     "start_time": "2020-06-06T06:59:12.271532Z"
    },
    "hidden": true
   },
   "outputs": [
    {
     "data": {
      "text/plain": [
       "-6.638400000000003e-06"
      ]
     },
     "execution_count": 86,
     "metadata": {},
     "output_type": "execute_result"
    }
   ],
   "source": [
    "solved_data.xaxis[0]"
   ]
  },
  {
   "cell_type": "code",
   "execution_count": 25,
   "metadata": {
    "ExecuteTime": {
     "end_time": "2020-06-08T06:57:51.830567Z",
     "start_time": "2020-06-08T06:57:51.818593Z"
    },
    "hidden": true
   },
   "outputs": [],
   "source": [
    "def dc_interpolate(sig_data, dcfields, Nx, Ny):\n",
    "    x1 = max(dcfields.xaxis[0,0]*1e-6,sig_data.xaxis[0])\n",
    "    x2 = min(dcfields.xaxis[0,-1]*1e-6,sig_data.xaxis[-1])\n",
    "    y1 = max(dcfields.yaxis[0,0]*1e-6,sig_data.yaxis[0])\n",
    "    y2 = min(dcfields.yaxis[-1,0]*1e-6,sig_data.yaxis[-1])\n",
    "    x = np.linspace(x1, x2, Nx)\n",
    "    y = np.linspace(y1, y2, Ny)\n",
    "    Ex_dc = sp.interpolate.interp2d(dcfields.xaxis[0,:]*1e-6, dcfields.yaxis[:,0]*1e-6,dcfields.Ex_dc*100)\n",
    "    Ey_dc = sp.interpolate.interp2d(dcfields.xaxis[0,:]*1e-6, dcfields.yaxis[:,0]*1e-6,dcfields.Ey_dc*100)\n",
    "    Ex_s = sp.interpolate.interp2d(sig_data.xaxis, sig_data.yaxis, np.real(sig_data.E_field[0]).T)\n",
    "    Ey_s = sp.interpolate.interp2d(sig_data.xaxis, sig_data.yaxis, np.real(sig_data.E_field[1]).T)\n",
    "    return Ex_dc(x, y), Ey_dc(x,y), Ex_s(x,y), Ey_s(x,y), x, y"
   ]
  },
  {
   "cell_type": "code",
   "execution_count": 26,
   "metadata": {
    "ExecuteTime": {
     "end_time": "2020-06-08T06:57:52.113474Z",
     "start_time": "2020-06-08T06:57:52.106518Z"
    },
    "hidden": true
   },
   "outputs": [],
   "source": [
    "Ex_dc_interp, Ey_dc_interp, Ex_s_interp, Ey_s_interp, x, y = dc_interpolate(solved_data, dcdata, 50, 50)"
   ]
  },
  {
   "cell_type": "code",
   "execution_count": 27,
   "metadata": {
    "ExecuteTime": {
     "end_time": "2020-06-08T06:57:52.545342Z",
     "start_time": "2020-06-08T06:57:52.308978Z"
    },
    "hidden": true
   },
   "outputs": [
    {
     "data": {
      "text/plain": [
       "<matplotlib.image.AxesImage at 0x218e0ea32e8>"
      ]
     },
     "execution_count": 27,
     "metadata": {},
     "output_type": "execute_result"
    },
    {
     "data": {
      "image/png": "[encoded data removed]",
      "text/plain": [
       "<Figure size 432x288 with 1 Axes>"
      ]
     },
     "metadata": {
      "needs_background": "light"
     },
     "output_type": "display_data"
    }
   ],
   "source": [
    "plt.imshow(Ex_dc_interp, extent=[x[0],x[-1],y[0],y[-1]], vmin=-1e6*rang, vmax=1e6*rang, interpolation=\"none\", alpha=1, origin=\"lower\", cmap=\"RdBu\")\n",
    "plt.imshow(Ex_s_interp,  extent=[x[0],x[-1],y[0],y[-1]], interpolation=\"none\", vmin=-1, vmax=1, alpha=0.5, origin=\"lower\", cmap=\"PuOr_r\")"
   ]
  },
  {
   "cell_type": "code",
   "execution_count": 23,
   "metadata": {
    "ExecuteTime": {
     "end_time": "2020-06-08T06:57:46.934233Z",
     "start_time": "2020-06-08T06:57:46.714008Z"
    },
    "hidden": true
   },
   "outputs": [
    {
     "data": {
      "text/plain": [
       "[<matplotlib.lines.Line2D at 0x218e0c5af28>]"
      ]
     },
     "execution_count": 23,
     "metadata": {},
     "output_type": "execute_result"
    },
    {
     "data": {
      "image/png": "[encoded data removed]",
      "text/plain": [
       "<Figure size 432x288 with 1 Axes>"
      ]
     },
     "metadata": {
      "needs_background": "light"
     },
     "output_type": "display_data"
    }
   ],
   "source": [
    "plt.plot(solved_data.xaxis)"
   ]
  },
  {
   "cell_type": "markdown",
   "metadata": {
    "heading_collapsed": true
   },
   "source": [
    "## 6/8/20, testing `fdemode.py` and `CoupledRidgeWaveguideEnvironment`"
   ]
  },
  {
   "cell_type": "code",
   "execution_count": 1,
   "metadata": {
    "ExecuteTime": {
     "end_time": "2020-06-08T07:53:49.607221Z",
     "start_time": "2020-06-08T07:53:49.185733Z"
    },
    "hidden": true
   },
   "outputs": [],
   "source": [
    "import matplotlib.pyplot as plt"
   ]
  },
  {
   "cell_type": "code",
   "execution_count": 2,
   "metadata": {
    "ExecuteTime": {
     "end_time": "2020-06-08T07:53:51.211657Z",
     "start_time": "2020-06-08T07:53:50.140743Z"
    },
    "hidden": true
   },
   "outputs": [
    {
     "name": "stdout",
     "output_type": "stream",
     "text": [
      "C:\\Users\\dheydari\\Documents\\OneDrive - Stanford\\research\\modules\\pylum\n"
     ]
    }
   ],
   "source": [
    "from pylum import *\n",
    "from nlowg import *\n",
    "from nlowg import sentarus_dc"
   ]
  },
  {
   "cell_type": "code",
   "execution_count": 3,
   "metadata": {
    "ExecuteTime": {
     "end_time": "2020-06-08T07:53:51.222630Z",
     "start_time": "2020-06-08T07:53:51.214651Z"
    },
    "hidden": true
   },
   "outputs": [
    {
     "name": "stdout",
     "output_type": "stream",
     "text": [
      "C:\\Users\\dheydari\\Documents\\OneDrive - Stanford\\research\\modules\\pylum\\structure\n"
     ]
    }
   ],
   "source": [
    "import pylum\n",
    "import pylum.structure.waveguide as wg\n",
    "import pylum.fdemode as fde\n",
    "import pylum.structure.ridge_wg as ridge"
   ]
  },
  {
   "cell_type": "code",
   "execution_count": 4,
   "metadata": {
    "ExecuteTime": {
     "end_time": "2020-06-08T07:53:51.234595Z",
     "start_time": "2020-06-08T07:53:51.225620Z"
    },
    "hidden": true
   },
   "outputs": [],
   "source": [
    "import nlowg.degenerate_chi2 as efison"
   ]
  },
  {
   "cell_type": "code",
   "execution_count": 5,
   "metadata": {
    "ExecuteTime": {
     "end_time": "2020-06-08T07:53:51.462960Z",
     "start_time": "2020-06-08T07:53:51.449982Z"
    },
    "hidden": true
   },
   "outputs": [],
   "source": [
    "proj_dir = path.normpath(\"C:/Users/dheydari/Documents/OneDrive - Stanford/research/projects\")\n",
    "if path.isdir(proj_dir): data_dir = path.normpath(path.join(proj_dir,'vtt_2020/dc_fields/sentaurus_data/2d'))\n",
    "csv_i = sentarus_dc.get_latest_csv_files(data_dir)[62]"
   ]
  },
  {
   "cell_type": "code",
   "execution_count": 6,
   "metadata": {
    "ExecuteTime": {
     "end_time": "2020-06-08T07:53:51.854342Z",
     "start_time": "2020-06-08T07:53:51.823426Z"
    },
    "hidden": true
   },
   "outputs": [],
   "source": [
    "dcdata = sentarus_dc.parse_diode_fields(csv_i)"
   ]
  },
  {
   "cell_type": "code",
   "execution_count": 7,
   "metadata": {
    "ExecuteTime": {
     "end_time": "2020-06-08T07:53:52.495786Z",
     "start_time": "2020-06-08T07:53:52.491795Z"
    },
    "hidden": true
   },
   "outputs": [],
   "source": [
    "wg = dcdata.wg"
   ]
  },
  {
   "cell_type": "code",
   "execution_count": 8,
   "metadata": {
    "ExecuteTime": {
     "end_time": "2020-06-08T07:53:52.894802Z",
     "start_time": "2020-06-08T07:53:52.891826Z"
    },
    "hidden": true
   },
   "outputs": [],
   "source": [
    "λ_s0 = 2.4e-6"
   ]
  },
  {
   "cell_type": "code",
   "execution_count": 9,
   "metadata": {
    "ExecuteTime": {
     "end_time": "2020-06-08T07:54:00.331062Z",
     "start_time": "2020-06-08T07:53:54.027669Z"
    },
    "hidden": true
   },
   "outputs": [],
   "source": [
    "environ = ridge.RidgeWaveguideEnvironment(wg)\n",
    "fde = fde.FDEModeSimulator(environ)\n",
    "fde.setup_sim(λ_s0)"
   ]
  },
  {
   "cell_type": "code",
   "execution_count": 10,
   "metadata": {
    "ExecuteTime": {
     "end_time": "2020-06-08T07:54:00.343994Z",
     "start_time": "2020-06-08T07:54:00.333022Z"
    },
    "hidden": true
   },
   "outputs": [],
   "source": [
    "solved_degen = efison.DegenChi2ModeSimulator(environ)"
   ]
  },
  {
   "cell_type": "code",
   "execution_count": 11,
   "metadata": {
    "ExecuteTime": {
     "end_time": "2020-06-08T07:54:01.157650Z",
     "start_time": "2020-06-08T07:54:00.347014Z"
    },
    "hidden": true
   },
   "outputs": [],
   "source": [
    "solved_degen_modes = solved_degen.solve_mode(λ_s0)"
   ]
  },
  {
   "cell_type": "code",
   "execution_count": 12,
   "metadata": {
    "ExecuteTime": {
     "end_time": "2020-06-08T07:54:01.169593Z",
     "start_time": "2020-06-08T07:54:01.160617Z"
    },
    "hidden": true
   },
   "outputs": [
    {
     "data": {
      "text/plain": [
       "array([[ 0.00000000e+00,  0.00000000e+00,  0.00000000e+00, ...,\n",
       "         0.00000000e+00,  0.00000000e+00,  0.00000000e+00],\n",
       "       [ 1.21776635e-10,  2.27418019e-10,  4.73874233e-10, ...,\n",
       "         4.73874233e-10,  2.27418019e-10,  1.21776635e-10],\n",
       "       [ 5.83692119e-10,  1.09004557e-09,  2.27134357e-09, ...,\n",
       "         2.27134357e-09,  1.09004557e-09,  5.83692119e-10],\n",
       "       ...,\n",
       "       [-1.10013171e-17, -9.54835780e-19,  7.97283289e-19, ...,\n",
       "         7.97283289e-19, -9.54835780e-19, -1.10013171e-17],\n",
       "       [-5.96031044e-18, -3.47093454e-18,  5.87831943e-18, ...,\n",
       "         5.87831943e-18, -3.47093454e-18, -5.96031044e-18],\n",
       "       [ 0.00000000e+00,  0.00000000e+00,  0.00000000e+00, ...,\n",
       "         0.00000000e+00,  0.00000000e+00,  0.00000000e+00]])"
      ]
     },
     "execution_count": 12,
     "metadata": {},
     "output_type": "execute_result"
    }
   ],
   "source": [
    "np.real(solved_degen_modes.pump_data.E_field[0].T)"
   ]
  },
  {
   "cell_type": "code",
   "execution_count": 13,
   "metadata": {
    "ExecuteTime": {
     "end_time": "2020-06-08T07:54:01.181560Z",
     "start_time": "2020-06-08T07:54:01.172584Z"
    },
    "hidden": true
   },
   "outputs": [
    {
     "data": {
      "text/plain": [
       "array([[0.00000000e+00, 0.00000000e+00, 0.00000000e+00, ...,\n",
       "        0.00000000e+00, 0.00000000e+00, 0.00000000e+00],\n",
       "       [9.81208476e-07, 1.16706300e-06, 1.61475211e-06, ...,\n",
       "        1.61475211e-06, 1.16706300e-06, 9.81208476e-07],\n",
       "       [2.59850034e-06, 3.09068994e-06, 4.27628428e-06, ...,\n",
       "        4.27628428e-06, 3.09068994e-06, 2.59850034e-06],\n",
       "       ...,\n",
       "       [9.11944122e-11, 1.08386266e-10, 1.49810397e-10, ...,\n",
       "        1.49810397e-10, 1.08386266e-10, 9.11944122e-11],\n",
       "       [3.35250398e-11, 3.98451095e-11, 5.50734497e-11, ...,\n",
       "        5.50734497e-11, 3.98451095e-11, 3.35250398e-11],\n",
       "       [0.00000000e+00, 0.00000000e+00, 0.00000000e+00, ...,\n",
       "        0.00000000e+00, 0.00000000e+00, 0.00000000e+00]])"
      ]
     },
     "execution_count": 13,
     "metadata": {},
     "output_type": "execute_result"
    }
   ],
   "source": [
    "np.real(solved_degen_modes.sig_data.E_field[0].T)"
   ]
  },
  {
   "cell_type": "code",
   "execution_count": 14,
   "metadata": {
    "ExecuteTime": {
     "end_time": "2020-06-08T07:54:01.188541Z",
     "start_time": "2020-06-08T07:54:01.184550Z"
    },
    "hidden": true
   },
   "outputs": [],
   "source": [
    "efison_object = efison.EFISONSimulation(wg, solved_degen_modes, dcdata)"
   ]
  },
  {
   "cell_type": "code",
   "execution_count": 15,
   "metadata": {
    "ExecuteTime": {
     "end_time": "2020-06-08T07:54:01.205495Z",
     "start_time": "2020-06-08T07:54:01.191533Z"
    },
    "hidden": true
   },
   "outputs": [],
   "source": [
    "E_dc, Es_interp, x, y = efison_object._dc_interpolate(solved_degen_modes.sig_data, dcdata, 200, 200)"
   ]
  },
  {
   "cell_type": "code",
   "execution_count": 16,
   "metadata": {
    "ExecuteTime": {
     "end_time": "2020-06-08T07:54:01.216466Z",
     "start_time": "2020-06-08T07:54:01.210482Z"
    },
    "hidden": true
   },
   "outputs": [],
   "source": [
    "rang = max(np.max(np.abs(dcdata.Ex_dc/1e4)),np.max(np.abs(dcdata.Ey_dc/1e4)))"
   ]
  },
  {
   "cell_type": "code",
   "execution_count": 19,
   "metadata": {
    "ExecuteTime": {
     "end_time": "2020-06-09T03:23:08.421731Z",
     "start_time": "2020-06-09T03:23:08.152374Z"
    },
    "hidden": true
   },
   "outputs": [
    {
     "data": {
      "text/plain": [
       "<matplotlib.image.AxesImage at 0x286e2d29f28>"
      ]
     },
     "execution_count": 19,
     "metadata": {},
     "output_type": "execute_result"
    },
    {
     "data": {
      "image/png": "[encoded data removed]",
      "text/plain": [
       "<Figure size 432x288 with 1 Axes>"
      ]
     },
     "metadata": {
      "needs_background": "light"
     },
     "output_type": "display_data"
    }
   ],
   "source": [
    "plt.imshow(E_dc[0], interpolation=\"none\", vmin=-1e6*rang, vmax=1e6*rang, alpha=1, origin=\"lower\", cmap=\"RdBu\")\n",
    "plt.imshow(Es_interp[0], interpolation=\"none\", vmin=-1, vmax=1, alpha=0.5, origin=\"lower\", cmap=\"PuOr_r\")"
   ]
  },
  {
   "cell_type": "code",
   "execution_count": 36,
   "metadata": {
    "ExecuteTime": {
     "end_time": "2020-06-08T07:49:45.593918Z",
     "start_time": "2020-06-08T07:49:45.573940Z"
    },
    "hidden": true
   },
   "outputs": [
    {
     "ename": "AttributeError",
     "evalue": "'list' object has no attribute 'xaxis'",
     "output_type": "error",
     "traceback": [
      "\u001b[1;31m---------------------------------------------------------------------------\u001b[0m",
      "\u001b[1;31mAttributeError\u001b[0m                            Traceback (most recent call last)",
      "\u001b[1;32m<ipython-input-36-4b94c1f6a423>\u001b[0m in \u001b[0;36m<module>\u001b[1;34m\u001b[0m\n\u001b[1;32m----> 1\u001b[1;33m \u001b[0mefison_object\u001b[0m\u001b[1;33m.\u001b[0m\u001b[0mcoupling\u001b[0m\u001b[1;33m(\u001b[0m\u001b[1;33m)\u001b[0m\u001b[1;33m\u001b[0m\u001b[1;33m\u001b[0m\u001b[0m\n\u001b[0m",
      "\u001b[1;32m~\\Documents\\OneDrive - Stanford\\research\\modules\\nlowg\\degenerate_chi2.py\u001b[0m in \u001b[0;36mcoupling\u001b[1;34m(self, test)\u001b[0m\n\u001b[0;32m    100\u001b[0m         \u001b[0mEp\u001b[0m \u001b[1;33m=\u001b[0m \u001b[0mself\u001b[0m\u001b[1;33m.\u001b[0m\u001b[0mmodes\u001b[0m\u001b[1;33m.\u001b[0m\u001b[0mpump_data\u001b[0m\u001b[1;33m.\u001b[0m\u001b[0mE_field\u001b[0m\u001b[1;33m\u001b[0m\u001b[1;33m\u001b[0m\u001b[0m\n\u001b[0;32m    101\u001b[0m         \u001b[0mEs\u001b[0m \u001b[1;33m=\u001b[0m \u001b[0mself\u001b[0m\u001b[1;33m.\u001b[0m\u001b[0mmodes\u001b[0m\u001b[1;33m.\u001b[0m\u001b[0msig_data\u001b[0m\u001b[1;33m.\u001b[0m\u001b[0mE_field\u001b[0m\u001b[1;33m\u001b[0m\u001b[1;33m\u001b[0m\u001b[0m\n\u001b[1;32m--> 102\u001b[1;33m         \u001b[0mE_dc\u001b[0m\u001b[1;33m,\u001b[0m \u001b[0mEs_interp\u001b[0m\u001b[1;33m,\u001b[0m \u001b[0mx\u001b[0m\u001b[1;33m,\u001b[0m \u001b[0my\u001b[0m \u001b[1;33m=\u001b[0m \u001b[0mself\u001b[0m\u001b[1;33m.\u001b[0m\u001b[0m_dc_interpolate\u001b[0m\u001b[1;33m(\u001b[0m\u001b[0mEs\u001b[0m\u001b[1;33m,\u001b[0m \u001b[0mself\u001b[0m\u001b[1;33m.\u001b[0m\u001b[0mdcfields\u001b[0m\u001b[1;33m,\u001b[0m \u001b[0mNx\u001b[0m\u001b[1;33m=\u001b[0m\u001b[1;36m200\u001b[0m\u001b[1;33m,\u001b[0m \u001b[0mNy\u001b[0m\u001b[1;33m=\u001b[0m\u001b[1;36m200\u001b[0m\u001b[1;33m)\u001b[0m\u001b[1;33m\u001b[0m\u001b[1;33m\u001b[0m\u001b[0m\n\u001b[0m\u001b[0;32m    103\u001b[0m         \u001b[0mdA\u001b[0m \u001b[1;33m=\u001b[0m \u001b[0mself\u001b[0m\u001b[1;33m.\u001b[0m\u001b[0m_dxdy\u001b[0m\u001b[1;33m(\u001b[0m\u001b[0mx\u001b[0m\u001b[1;33m,\u001b[0m \u001b[0my\u001b[0m\u001b[1;33m)\u001b[0m\u001b[1;33m\u001b[0m\u001b[1;33m\u001b[0m\u001b[0m\n\u001b[0;32m    104\u001b[0m         coupling = [np.real(sum(prefactor[l]*self._d_induced_Si(i,j,k,E_dc,test)*Ep[l][i].conj()*Es_interp[l][j]*Es_interp[l][k]\n",
      "\u001b[1;32m~\\Documents\\OneDrive - Stanford\\research\\modules\\nlowg\\degenerate_chi2.py\u001b[0m in \u001b[0;36m_dc_interpolate\u001b[1;34m(self, sig_data, dcfields, Nx, Ny)\u001b[0m\n\u001b[0;32m     55\u001b[0m     \u001b[1;31m#TODO: add the 'self', modify with dX,dY, no more Nx,Ny\u001b[0m\u001b[1;33m\u001b[0m\u001b[1;33m\u001b[0m\u001b[1;33m\u001b[0m\u001b[0m\n\u001b[0;32m     56\u001b[0m     \u001b[1;32mdef\u001b[0m \u001b[0m_dc_interpolate\u001b[0m\u001b[1;33m(\u001b[0m\u001b[0mself\u001b[0m\u001b[1;33m,\u001b[0m \u001b[0msig_data\u001b[0m\u001b[1;33m,\u001b[0m \u001b[0mdcfields\u001b[0m\u001b[1;33m,\u001b[0m \u001b[0mNx\u001b[0m\u001b[1;33m,\u001b[0m \u001b[0mNy\u001b[0m\u001b[1;33m)\u001b[0m\u001b[1;33m:\u001b[0m\u001b[1;33m\u001b[0m\u001b[1;33m\u001b[0m\u001b[0m\n\u001b[1;32m---> 57\u001b[1;33m         \u001b[0mx1\u001b[0m \u001b[1;33m=\u001b[0m \u001b[0mmax\u001b[0m\u001b[1;33m(\u001b[0m\u001b[0mdcfields\u001b[0m\u001b[1;33m.\u001b[0m\u001b[0mxaxis\u001b[0m\u001b[1;33m[\u001b[0m\u001b[1;36m0\u001b[0m\u001b[1;33m,\u001b[0m\u001b[1;36m0\u001b[0m\u001b[1;33m]\u001b[0m\u001b[1;33m*\u001b[0m\u001b[1;36m1e-6\u001b[0m\u001b[1;33m,\u001b[0m\u001b[0msig_data\u001b[0m\u001b[1;33m.\u001b[0m\u001b[0mxaxis\u001b[0m\u001b[1;33m[\u001b[0m\u001b[1;36m0\u001b[0m\u001b[1;33m]\u001b[0m\u001b[1;33m)\u001b[0m\u001b[1;33m\u001b[0m\u001b[1;33m\u001b[0m\u001b[0m\n\u001b[0m\u001b[0;32m     58\u001b[0m         \u001b[0mx2\u001b[0m \u001b[1;33m=\u001b[0m \u001b[0mmin\u001b[0m\u001b[1;33m(\u001b[0m\u001b[0mdcfields\u001b[0m\u001b[1;33m.\u001b[0m\u001b[0mxaxis\u001b[0m\u001b[1;33m[\u001b[0m\u001b[1;36m0\u001b[0m\u001b[1;33m,\u001b[0m\u001b[1;33m-\u001b[0m\u001b[1;36m1\u001b[0m\u001b[1;33m]\u001b[0m\u001b[1;33m*\u001b[0m\u001b[1;36m1e-6\u001b[0m\u001b[1;33m,\u001b[0m\u001b[0msig_data\u001b[0m\u001b[1;33m.\u001b[0m\u001b[0mxaxis\u001b[0m\u001b[1;33m[\u001b[0m\u001b[1;33m-\u001b[0m\u001b[1;36m1\u001b[0m\u001b[1;33m]\u001b[0m\u001b[1;33m)\u001b[0m\u001b[1;33m\u001b[0m\u001b[1;33m\u001b[0m\u001b[0m\n\u001b[0;32m     59\u001b[0m         \u001b[0my1\u001b[0m \u001b[1;33m=\u001b[0m \u001b[0mmax\u001b[0m\u001b[1;33m(\u001b[0m\u001b[0mdcfields\u001b[0m\u001b[1;33m.\u001b[0m\u001b[0myaxis\u001b[0m\u001b[1;33m[\u001b[0m\u001b[1;36m0\u001b[0m\u001b[1;33m,\u001b[0m\u001b[1;36m0\u001b[0m\u001b[1;33m]\u001b[0m\u001b[1;33m*\u001b[0m\u001b[1;36m1e-6\u001b[0m\u001b[1;33m,\u001b[0m\u001b[0msig_data\u001b[0m\u001b[1;33m.\u001b[0m\u001b[0myaxis\u001b[0m\u001b[1;33m[\u001b[0m\u001b[1;36m0\u001b[0m\u001b[1;33m]\u001b[0m\u001b[1;33m)\u001b[0m\u001b[1;33m\u001b[0m\u001b[1;33m\u001b[0m\u001b[0m\n",
      "\u001b[1;31mAttributeError\u001b[0m: 'list' object has no attribute 'xaxis'"
     ]
    }
   ],
   "source": [
    "efison_object.coupling()"
   ]
  },
  {
   "cell_type": "markdown",
   "metadata": {},
   "source": [
    "## 6/10 tests, improved interpolation functions"
   ]
  },
  {
   "cell_type": "code",
   "execution_count": 1,
   "metadata": {
    "ExecuteTime": {
     "end_time": "2020-06-08T07:53:49.607221Z",
     "start_time": "2020-06-08T07:53:49.185733Z"
    }
   },
   "outputs": [],
   "source": [
    "import matplotlib.pyplot as plt"
   ]
  },
  {
   "cell_type": "code",
   "execution_count": 2,
   "metadata": {
    "ExecuteTime": {
     "end_time": "2020-06-08T07:53:51.211657Z",
     "start_time": "2020-06-08T07:53:50.140743Z"
    }
   },
   "outputs": [
    {
     "name": "stdout",
     "output_type": "stream",
     "text": [
      "C:\\Users\\dheydari\\Documents\\OneDrive - Stanford\\research\\modules\\pylum\n"
     ]
    }
   ],
   "source": [
    "from pylum import *\n",
    "from nlowg import *\n",
    "from nlowg import sentarus_dc"
   ]
  },
  {
   "cell_type": "code",
   "execution_count": 3,
   "metadata": {
    "ExecuteTime": {
     "end_time": "2020-06-08T07:53:51.222630Z",
     "start_time": "2020-06-08T07:53:51.214651Z"
    }
   },
   "outputs": [
    {
     "name": "stdout",
     "output_type": "stream",
     "text": [
      "C:\\Users\\dheydari\\Documents\\OneDrive - Stanford\\research\\modules\\pylum\\structure\n"
     ]
    }
   ],
   "source": [
    "import pylum\n",
    "import pylum.structure.waveguide as wg\n",
    "import pylum.fdemode as fde\n",
    "import pylum.structure.ridge_wg as ridge"
   ]
  },
  {
   "cell_type": "code",
   "execution_count": 4,
   "metadata": {
    "ExecuteTime": {
     "end_time": "2020-06-08T07:53:51.234595Z",
     "start_time": "2020-06-08T07:53:51.225620Z"
    }
   },
   "outputs": [],
   "source": [
    "import nlowg.degenerate_chi2 as efison"
   ]
  },
  {
   "cell_type": "code",
   "execution_count": 5,
   "metadata": {
    "ExecuteTime": {
     "end_time": "2020-06-08T07:53:51.462960Z",
     "start_time": "2020-06-08T07:53:51.449982Z"
    }
   },
   "outputs": [],
   "source": [
    "proj_dir = path.normpath(\"C:/Users/dheydari/Documents/OneDrive - Stanford/research/projects\")\n",
    "if path.isdir(proj_dir): data_dir = path.normpath(path.join(proj_dir,'vtt_2020/dc_fields/sentaurus_data/2d'))\n",
    "csv_i = sentarus_dc.get_latest_csv_files(data_dir)[62]"
   ]
  },
  {
   "cell_type": "code",
   "execution_count": 6,
   "metadata": {
    "ExecuteTime": {
     "end_time": "2020-06-08T07:53:51.854342Z",
     "start_time": "2020-06-08T07:53:51.823426Z"
    }
   },
   "outputs": [],
   "source": [
    "dcdata = sentarus_dc.parse_diode_fields(csv_i)"
   ]
  },
  {
   "cell_type": "code",
   "execution_count": 7,
   "metadata": {
    "ExecuteTime": {
     "end_time": "2020-06-08T07:53:52.495786Z",
     "start_time": "2020-06-08T07:53:52.491795Z"
    }
   },
   "outputs": [],
   "source": [
    "wg = dcdata.wg"
   ]
  },
  {
   "cell_type": "code",
   "execution_count": 8,
   "metadata": {
    "ExecuteTime": {
     "end_time": "2020-06-08T07:53:52.894802Z",
     "start_time": "2020-06-08T07:53:52.891826Z"
    }
   },
   "outputs": [],
   "source": [
    "λ_s0 = 2.4e-6"
   ]
  },
  {
   "cell_type": "code",
   "execution_count": 9,
   "metadata": {
    "ExecuteTime": {
     "end_time": "2020-06-08T07:54:00.331062Z",
     "start_time": "2020-06-08T07:53:54.027669Z"
    }
   },
   "outputs": [],
   "source": [
    "environ = ridge.RidgeWaveguideEnvironment(wg)\n",
    "fde = fde.FDEModeSimulator(environ)\n",
    "fde.setup_sim(λ_s0)"
   ]
  },
  {
   "cell_type": "code",
   "execution_count": 10,
   "metadata": {
    "ExecuteTime": {
     "end_time": "2020-06-08T07:54:00.343994Z",
     "start_time": "2020-06-08T07:54:00.333022Z"
    }
   },
   "outputs": [],
   "source": [
    "solved_degen = efison.DegenChi2ModeSimulator(environ)"
   ]
  },
  {
   "cell_type": "code",
   "execution_count": 11,
   "metadata": {
    "ExecuteTime": {
     "end_time": "2020-06-08T07:54:01.157650Z",
     "start_time": "2020-06-08T07:54:00.347014Z"
    }
   },
   "outputs": [],
   "source": [
    "solved_degen_modes = solved_degen.solve_mode(λ_s0)"
   ]
  },
  {
   "cell_type": "code",
   "execution_count": 12,
   "metadata": {
    "ExecuteTime": {
     "end_time": "2020-06-08T07:54:01.169593Z",
     "start_time": "2020-06-08T07:54:01.160617Z"
    }
   },
   "outputs": [
    {
     "data": {
      "text/plain": [
       "array([[ 0.00000000e+00,  0.00000000e+00,  0.00000000e+00, ...,\n",
       "         0.00000000e+00,  0.00000000e+00,  0.00000000e+00],\n",
       "       [ 1.21776635e-10,  2.27418019e-10,  4.73874233e-10, ...,\n",
       "         4.73874233e-10,  2.27418019e-10,  1.21776635e-10],\n",
       "       [ 5.83692119e-10,  1.09004557e-09,  2.27134357e-09, ...,\n",
       "         2.27134357e-09,  1.09004557e-09,  5.83692119e-10],\n",
       "       ...,\n",
       "       [-1.10013171e-17, -9.54835780e-19,  7.97283289e-19, ...,\n",
       "         7.97283289e-19, -9.54835780e-19, -1.10013171e-17],\n",
       "       [-5.96031044e-18, -3.47093454e-18,  5.87831943e-18, ...,\n",
       "         5.87831943e-18, -3.47093454e-18, -5.96031044e-18],\n",
       "       [ 0.00000000e+00,  0.00000000e+00,  0.00000000e+00, ...,\n",
       "         0.00000000e+00,  0.00000000e+00,  0.00000000e+00]])"
      ]
     },
     "execution_count": 12,
     "metadata": {},
     "output_type": "execute_result"
    }
   ],
   "source": [
    "np.real(solved_degen_modes.pump_data.E_field[0].T)"
   ]
  }
 ],
 "metadata": {
  "kernelspec": {
   "display_name": "Python 3",
   "language": "python",
   "name": "python3"
  },
  "language_info": {
   "codemirror_mode": {
    "name": "ipython",
    "version": 3
   },
   "file_extension": ".py",
   "mimetype": "text/x-python",
   "name": "python",
   "nbconvert_exporter": "python",
   "pygments_lexer": "ipython3",
   "version": "3.7.3"
  },
  "latex_envs": {
   "LaTeX_envs_menu_present": true,
   "autoclose": false,
   "autocomplete": true,
   "bibliofile": "biblio.bib",
   "cite_by": "apalike",
   "current_citInitial": 1,
   "eqLabelWithNumbers": true,
   "eqNumInitial": 1,
   "hotkeys": {
    "equation": "Ctrl-E",
    "itemize": "Ctrl-I"
   },
   "labels_anchors": false,
   "latex_user_defs": false,
   "report_style_numbering": false,
   "user_envs_cfg": false
  }
 },
 "nbformat": 4,
 "nbformat_minor": 2
}
